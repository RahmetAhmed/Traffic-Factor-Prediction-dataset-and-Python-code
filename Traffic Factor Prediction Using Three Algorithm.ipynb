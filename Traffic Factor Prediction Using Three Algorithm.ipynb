{
  "cells": [
    {
      "cell_type": "code",
      "execution_count": null,
      "id": "c3afd4c8",
      "metadata": {
        "id": "c3afd4c8"
      },
      "outputs": [],
      "source": [
        "# Importing necessary libraries\n",
        "import pandas as pd  # For data manipulation and analysis\n",
        "from sklearn.model_selection import train_test_split  # For splitting data into training and testing sets\n",
        "from sklearn.feature_extraction.text import CountVectorizer  # For converting text data into numerical feature vectors\n",
        "from sklearn.preprocessing import LabelEncoder  # For encoding categorical labels into numerical values\n",
        "from sklearn.metrics import accuracy_score, f1_score  # For evaluating model performance using accuracy and F1-score\n",
        "from scipy.sparse import hstack  # For stacking sparse matrices horizontally\n",
        "import joblib  # For saving trained models to disk\n",
        "import pickle  # For serializing Python objects to disk"
      ]
    },
    {
      "cell_type": "code",
      "execution_count": null,
      "id": "2f427dd9",
      "metadata": {
        "id": "2f427dd9"
      },
      "outputs": [],
      "source": [
        "import numpy as np  # Importing NumPy for numerical computing\n",
        "import pandas as pd  # Importing pandas for data manipulation and analysis\n",
        "import matplotlib.pyplot as plt  # Importing Matplotlib for plotting\n",
        "import seaborn as sns  # Importing Seaborn for statistical data visualization\n",
        "import warnings  # Importing warnings to handle warnings during execution\n",
        "\n",
        "# Ignoring warnings to avoid cluttering the output\n",
        "warnings.filterwarnings(\"ignore\")"
      ]
    },
    {
      "cell_type": "code",
      "execution_count": null,
      "id": "04eedf59",
      "metadata": {
        "id": "04eedf59"
      },
      "outputs": [],
      "source": [
        "# Classification\n",
        "from sklearn.tree import DecisionTreeClassifier  # Importing DecisionTreeClassifier from sklearn.tree\n",
        "from sklearn.ensemble import RandomForestClassifier  # Importing RandomForestClassifier from sklearn.ensemble\n",
        "from sklearn.neural_network import MLPClassifier  # Importing MLPClassifier from sklearn.neural_network"
      ]
    },
    {
      "cell_type": "code",
      "execution_count": null,
      "id": "c9a99f11",
      "metadata": {
        "id": "c9a99f11"
      },
      "outputs": [],
      "source": [
        "# Modelling Helpers :\n",
        "from sklearn.preprocessing import Normalizer , scale  # Importing Normalizer and scale from sklearn.preprocessing\n",
        "from sklearn.model_selection import train_test_split  # Importing train_test_split from sklearn.model_selection\n",
        "from sklearn.model_selection import GridSearchCV , KFold , cross_val_score, cross_validate  # Importing GridSearchCV, KFold, cross_val_score, and cross_validate from sklearn.model_selection\n"
      ]
    },
    {
      "cell_type": "code",
      "execution_count": null,
      "id": "78a4f01d",
      "metadata": {
        "id": "78a4f01d"
      },
      "outputs": [],
      "source": [
        "# Preprocessing :\n",
        "from sklearn.preprocessing import MinMaxScaler , StandardScaler,  LabelEncoder  # Importing MinMaxScaler, StandardScaler, and LabelEncoder from sklearn.preprocessing\n",
        "\n",
        "# Classification Metrics\n",
        "from sklearn.metrics import accuracy_score,precision_score,recall_score,f1_score, classification_report, confusion_matrix  # Importing various classification metrics from sklearn.metrics\n"
      ]
    },
    {
      "cell_type": "code",
      "execution_count": null,
      "id": "da9794b6",
      "metadata": {
        "id": "da9794b6"
      },
      "outputs": [],
      "source": [
        "df = pd.read_csv('Traffic_Accident_dataset.csv')"
      ]
    },
    {
      "cell_type": "code",
      "execution_count": null,
      "id": "ac96bbec",
      "metadata": {
        "id": "ac96bbec",
        "outputId": "1cfc68c8-721e-486b-a010-bef785118e33"
      },
      "outputs": [
        {
          "data": {
            "text/html": [
              "<div>\n",
              "<style scoped>\n",
              "    .dataframe tbody tr th:only-of-type {\n",
              "        vertical-align: middle;\n",
              "    }\n",
              "\n",
              "    .dataframe tbody tr th {\n",
              "        vertical-align: top;\n",
              "    }\n",
              "\n",
              "    .dataframe thead th {\n",
              "        text-align: right;\n",
              "    }\n",
              "</style>\n",
              "<table border=\"1\" class=\"dataframe\">\n",
              "  <thead>\n",
              "    <tr style=\"text-align: right;\">\n",
              "      <th></th>\n",
              "      <th>Accident_area</th>\n",
              "      <th>Sex_of_Casualty</th>\n",
              "      <th>Age_of_Casualty</th>\n",
              "      <th>Driver_education</th>\n",
              "      <th>Driver_Sex</th>\n",
              "      <th>Cause_of_Accident</th>\n",
              "      <th>Accide_type</th>\n",
              "      <th>Road_type</th>\n",
              "      <th>Road_Geometry</th>\n",
              "      <th>Road_Condition</th>\n",
              "      <th>Driver_experiance</th>\n",
              "      <th>vehicle_type</th>\n",
              "      <th>Vichle_Service</th>\n",
              "      <th>Road_Surface</th>\n",
              "      <th>Weather_Condition</th>\n",
              "      <th>Light_Condition</th>\n",
              "      <th>time</th>\n",
              "      <th>Driver_age</th>\n",
              "      <th>Accident_Factor</th>\n",
              "    </tr>\n",
              "  </thead>\n",
              "  <tbody>\n",
              "    <tr>\n",
              "      <th>0</th>\n",
              "      <td>1</td>\n",
              "      <td>0</td>\n",
              "      <td>0.478723</td>\n",
              "      <td>3</td>\n",
              "      <td>1</td>\n",
              "      <td>5</td>\n",
              "      <td>3</td>\n",
              "      <td>0</td>\n",
              "      <td>3</td>\n",
              "      <td>0</td>\n",
              "      <td>10</td>\n",
              "      <td>16</td>\n",
              "      <td>0.478723</td>\n",
              "      <td>0</td>\n",
              "      <td>2</td>\n",
              "      <td>0</td>\n",
              "      <td>2</td>\n",
              "      <td>0.520833</td>\n",
              "      <td>1</td>\n",
              "    </tr>\n",
              "    <tr>\n",
              "      <th>1</th>\n",
              "      <td>1</td>\n",
              "      <td>0</td>\n",
              "      <td>0.244681</td>\n",
              "      <td>3</td>\n",
              "      <td>1</td>\n",
              "      <td>3</td>\n",
              "      <td>3</td>\n",
              "      <td>0</td>\n",
              "      <td>3</td>\n",
              "      <td>0</td>\n",
              "      <td>11</td>\n",
              "      <td>11</td>\n",
              "      <td>0.244681</td>\n",
              "      <td>0</td>\n",
              "      <td>2</td>\n",
              "      <td>0</td>\n",
              "      <td>2</td>\n",
              "      <td>0.583333</td>\n",
              "      <td>0</td>\n",
              "    </tr>\n",
              "    <tr>\n",
              "      <th>2</th>\n",
              "      <td>0</td>\n",
              "      <td>0</td>\n",
              "      <td>0.382979</td>\n",
              "      <td>3</td>\n",
              "      <td>1</td>\n",
              "      <td>5</td>\n",
              "      <td>3</td>\n",
              "      <td>0</td>\n",
              "      <td>3</td>\n",
              "      <td>0</td>\n",
              "      <td>10</td>\n",
              "      <td>7</td>\n",
              "      <td>0.382979</td>\n",
              "      <td>0</td>\n",
              "      <td>2</td>\n",
              "      <td>0</td>\n",
              "      <td>0</td>\n",
              "      <td>0.312500</td>\n",
              "      <td>1</td>\n",
              "    </tr>\n",
              "    <tr>\n",
              "      <th>3</th>\n",
              "      <td>1</td>\n",
              "      <td>0</td>\n",
              "      <td>0.297872</td>\n",
              "      <td>3</td>\n",
              "      <td>1</td>\n",
              "      <td>2</td>\n",
              "      <td>1</td>\n",
              "      <td>0</td>\n",
              "      <td>3</td>\n",
              "      <td>0</td>\n",
              "      <td>4</td>\n",
              "      <td>12</td>\n",
              "      <td>0.297872</td>\n",
              "      <td>0</td>\n",
              "      <td>2</td>\n",
              "      <td>0</td>\n",
              "      <td>2</td>\n",
              "      <td>0.166667</td>\n",
              "      <td>1</td>\n",
              "    </tr>\n",
              "    <tr>\n",
              "      <th>4</th>\n",
              "      <td>0</td>\n",
              "      <td>1</td>\n",
              "      <td>0.255319</td>\n",
              "      <td>3</td>\n",
              "      <td>1</td>\n",
              "      <td>2</td>\n",
              "      <td>1</td>\n",
              "      <td>0</td>\n",
              "      <td>3</td>\n",
              "      <td>0</td>\n",
              "      <td>4</td>\n",
              "      <td>12</td>\n",
              "      <td>0.255319</td>\n",
              "      <td>0</td>\n",
              "      <td>2</td>\n",
              "      <td>0</td>\n",
              "      <td>2</td>\n",
              "      <td>0.083333</td>\n",
              "      <td>1</td>\n",
              "    </tr>\n",
              "  </tbody>\n",
              "</table>\n",
              "</div>"
            ],
            "text/plain": [
              "   Accident_area  Sex_of_Casualty  Age_of_Casualty  Driver_education  \\\n",
              "0              1                0         0.478723                 3   \n",
              "1              1                0         0.244681                 3   \n",
              "2              0                0         0.382979                 3   \n",
              "3              1                0         0.297872                 3   \n",
              "4              0                1         0.255319                 3   \n",
              "\n",
              "   Driver_Sex  Cause_of_Accident  Accide_type  Road_type  Road_Geometry  \\\n",
              "0           1                  5            3          0              3   \n",
              "1           1                  3            3          0              3   \n",
              "2           1                  5            3          0              3   \n",
              "3           1                  2            1          0              3   \n",
              "4           1                  2            1          0              3   \n",
              "\n",
              "   Road_Condition  Driver_experiance  vehicle_type  Vichle_Service  \\\n",
              "0               0                 10            16        0.478723   \n",
              "1               0                 11            11        0.244681   \n",
              "2               0                 10             7        0.382979   \n",
              "3               0                  4            12        0.297872   \n",
              "4               0                  4            12        0.255319   \n",
              "\n",
              "   Road_Surface  Weather_Condition  Light_Condition  time  Driver_age  \\\n",
              "0             0                  2                0     2    0.520833   \n",
              "1             0                  2                0     2    0.583333   \n",
              "2             0                  2                0     0    0.312500   \n",
              "3             0                  2                0     2    0.166667   \n",
              "4             0                  2                0     2    0.083333   \n",
              "\n",
              "   Accident_Factor  \n",
              "0                1  \n",
              "1                0  \n",
              "2                1  \n",
              "3                1  \n",
              "4                1  "
            ]
          },
          "execution_count": 29,
          "metadata": {},
          "output_type": "execute_result"
        }
      ],
      "source": [
        "df.head()"
      ]
    },
    {
      "cell_type": "code",
      "execution_count": null,
      "id": "829a090d",
      "metadata": {
        "id": "829a090d",
        "outputId": "138588cc-e461-4377-8f7b-711edb8be219"
      },
      "outputs": [
        {
          "data": {
            "text/html": [
              "<div>\n",
              "<style scoped>\n",
              "    .dataframe tbody tr th:only-of-type {\n",
              "        vertical-align: middle;\n",
              "    }\n",
              "\n",
              "    .dataframe tbody tr th {\n",
              "        vertical-align: top;\n",
              "    }\n",
              "\n",
              "    .dataframe thead th {\n",
              "        text-align: right;\n",
              "    }\n",
              "</style>\n",
              "<table border=\"1\" class=\"dataframe\">\n",
              "  <thead>\n",
              "    <tr style=\"text-align: right;\">\n",
              "      <th></th>\n",
              "      <th>Accident_area</th>\n",
              "      <th>Sex_of_Casualty</th>\n",
              "      <th>Age_of_Casualty</th>\n",
              "      <th>Driver_education</th>\n",
              "      <th>Driver_Sex</th>\n",
              "      <th>Cause_of_Accident</th>\n",
              "      <th>Accide_type</th>\n",
              "      <th>Road_type</th>\n",
              "      <th>Road_Geometry</th>\n",
              "      <th>Road_Condition</th>\n",
              "      <th>Driver_experiance</th>\n",
              "      <th>vehicle_type</th>\n",
              "      <th>Vichle_Service</th>\n",
              "      <th>Road_Surface</th>\n",
              "      <th>Weather_Condition</th>\n",
              "      <th>Light_Condition</th>\n",
              "      <th>time</th>\n",
              "      <th>Driver_age</th>\n",
              "      <th>Accident_Factor</th>\n",
              "    </tr>\n",
              "  </thead>\n",
              "  <tbody>\n",
              "    <tr>\n",
              "      <th>5245</th>\n",
              "      <td>0</td>\n",
              "      <td>1</td>\n",
              "      <td>0.159574</td>\n",
              "      <td>1</td>\n",
              "      <td>0</td>\n",
              "      <td>7</td>\n",
              "      <td>0</td>\n",
              "      <td>2</td>\n",
              "      <td>4</td>\n",
              "      <td>1</td>\n",
              "      <td>10</td>\n",
              "      <td>10</td>\n",
              "      <td>0.159574</td>\n",
              "      <td>0</td>\n",
              "      <td>1</td>\n",
              "      <td>0</td>\n",
              "      <td>0</td>\n",
              "      <td>0.166667</td>\n",
              "      <td>2</td>\n",
              "    </tr>\n",
              "    <tr>\n",
              "      <th>5246</th>\n",
              "      <td>0</td>\n",
              "      <td>1</td>\n",
              "      <td>0.138298</td>\n",
              "      <td>0</td>\n",
              "      <td>1</td>\n",
              "      <td>7</td>\n",
              "      <td>0</td>\n",
              "      <td>0</td>\n",
              "      <td>4</td>\n",
              "      <td>0</td>\n",
              "      <td>10</td>\n",
              "      <td>16</td>\n",
              "      <td>0.138298</td>\n",
              "      <td>3</td>\n",
              "      <td>0</td>\n",
              "      <td>0</td>\n",
              "      <td>0</td>\n",
              "      <td>0.333333</td>\n",
              "      <td>2</td>\n",
              "    </tr>\n",
              "    <tr>\n",
              "      <th>5247</th>\n",
              "      <td>0</td>\n",
              "      <td>1</td>\n",
              "      <td>0.723404</td>\n",
              "      <td>0</td>\n",
              "      <td>1</td>\n",
              "      <td>7</td>\n",
              "      <td>0</td>\n",
              "      <td>0</td>\n",
              "      <td>2</td>\n",
              "      <td>1</td>\n",
              "      <td>10</td>\n",
              "      <td>16</td>\n",
              "      <td>0.723404</td>\n",
              "      <td>3</td>\n",
              "      <td>0</td>\n",
              "      <td>0</td>\n",
              "      <td>0</td>\n",
              "      <td>0.187500</td>\n",
              "      <td>2</td>\n",
              "    </tr>\n",
              "    <tr>\n",
              "      <th>5248</th>\n",
              "      <td>0</td>\n",
              "      <td>0</td>\n",
              "      <td>0.659574</td>\n",
              "      <td>3</td>\n",
              "      <td>0</td>\n",
              "      <td>5</td>\n",
              "      <td>3</td>\n",
              "      <td>0</td>\n",
              "      <td>0</td>\n",
              "      <td>0</td>\n",
              "      <td>8</td>\n",
              "      <td>8</td>\n",
              "      <td>0.659574</td>\n",
              "      <td>0</td>\n",
              "      <td>0</td>\n",
              "      <td>0</td>\n",
              "      <td>2</td>\n",
              "      <td>0.270833</td>\n",
              "      <td>0</td>\n",
              "    </tr>\n",
              "    <tr>\n",
              "      <th>5249</th>\n",
              "      <td>0</td>\n",
              "      <td>0</td>\n",
              "      <td>0.372340</td>\n",
              "      <td>3</td>\n",
              "      <td>1</td>\n",
              "      <td>2</td>\n",
              "      <td>1</td>\n",
              "      <td>0</td>\n",
              "      <td>0</td>\n",
              "      <td>0</td>\n",
              "      <td>8</td>\n",
              "      <td>2</td>\n",
              "      <td>0.372340</td>\n",
              "      <td>3</td>\n",
              "      <td>0</td>\n",
              "      <td>1</td>\n",
              "      <td>1</td>\n",
              "      <td>0.250000</td>\n",
              "      <td>0</td>\n",
              "    </tr>\n",
              "  </tbody>\n",
              "</table>\n",
              "</div>"
            ],
            "text/plain": [
              "      Accident_area  Sex_of_Casualty  Age_of_Casualty  Driver_education  \\\n",
              "5245              0                1         0.159574                 1   \n",
              "5246              0                1         0.138298                 0   \n",
              "5247              0                1         0.723404                 0   \n",
              "5248              0                0         0.659574                 3   \n",
              "5249              0                0         0.372340                 3   \n",
              "\n",
              "      Driver_Sex  Cause_of_Accident  Accide_type  Road_type  Road_Geometry  \\\n",
              "5245           0                  7            0          2              4   \n",
              "5246           1                  7            0          0              4   \n",
              "5247           1                  7            0          0              2   \n",
              "5248           0                  5            3          0              0   \n",
              "5249           1                  2            1          0              0   \n",
              "\n",
              "      Road_Condition  Driver_experiance  vehicle_type  Vichle_Service  \\\n",
              "5245               1                 10            10        0.159574   \n",
              "5246               0                 10            16        0.138298   \n",
              "5247               1                 10            16        0.723404   \n",
              "5248               0                  8             8        0.659574   \n",
              "5249               0                  8             2        0.372340   \n",
              "\n",
              "      Road_Surface  Weather_Condition  Light_Condition  time  Driver_age  \\\n",
              "5245             0                  1                0     0    0.166667   \n",
              "5246             3                  0                0     0    0.333333   \n",
              "5247             3                  0                0     0    0.187500   \n",
              "5248             0                  0                0     2    0.270833   \n",
              "5249             3                  0                1     1    0.250000   \n",
              "\n",
              "      Accident_Factor  \n",
              "5245                2  \n",
              "5246                2  \n",
              "5247                2  \n",
              "5248                0  \n",
              "5249                0  "
            ]
          },
          "execution_count": 8,
          "metadata": {},
          "output_type": "execute_result"
        }
      ],
      "source": [
        "df.tail()"
      ]
    },
    {
      "cell_type": "code",
      "execution_count": null,
      "id": "ab686599",
      "metadata": {
        "id": "ab686599",
        "outputId": "9e25fba0-cbc6-48c9-d67a-2a9966639ce2"
      },
      "outputs": [
        {
          "data": {
            "text/html": [
              "<div>\n",
              "<style scoped>\n",
              "    .dataframe tbody tr th:only-of-type {\n",
              "        vertical-align: middle;\n",
              "    }\n",
              "\n",
              "    .dataframe tbody tr th {\n",
              "        vertical-align: top;\n",
              "    }\n",
              "\n",
              "    .dataframe thead th {\n",
              "        text-align: right;\n",
              "    }\n",
              "</style>\n",
              "<table border=\"1\" class=\"dataframe\">\n",
              "  <thead>\n",
              "    <tr style=\"text-align: right;\">\n",
              "      <th></th>\n",
              "      <th>count</th>\n",
              "      <th>mean</th>\n",
              "      <th>std</th>\n",
              "      <th>min</th>\n",
              "      <th>25%</th>\n",
              "      <th>50%</th>\n",
              "      <th>75%</th>\n",
              "      <th>max</th>\n",
              "    </tr>\n",
              "  </thead>\n",
              "  <tbody>\n",
              "    <tr>\n",
              "      <th>Accident_area</th>\n",
              "      <td>5250.0</td>\n",
              "      <td>0.785143</td>\n",
              "      <td>0.410762</td>\n",
              "      <td>0.0</td>\n",
              "      <td>1.000000</td>\n",
              "      <td>1.000000</td>\n",
              "      <td>1.000000</td>\n",
              "      <td>1.0</td>\n",
              "    </tr>\n",
              "    <tr>\n",
              "      <th>Sex_of_Casualty</th>\n",
              "      <td>5250.0</td>\n",
              "      <td>0.674095</td>\n",
              "      <td>0.468757</td>\n",
              "      <td>0.0</td>\n",
              "      <td>0.000000</td>\n",
              "      <td>1.000000</td>\n",
              "      <td>1.000000</td>\n",
              "      <td>1.0</td>\n",
              "    </tr>\n",
              "    <tr>\n",
              "      <th>Age_of_Casualty</th>\n",
              "      <td>5250.0</td>\n",
              "      <td>0.365226</td>\n",
              "      <td>0.186982</td>\n",
              "      <td>0.0</td>\n",
              "      <td>0.223404</td>\n",
              "      <td>0.329787</td>\n",
              "      <td>0.478723</td>\n",
              "      <td>1.0</td>\n",
              "    </tr>\n",
              "    <tr>\n",
              "      <th>Driver_education</th>\n",
              "      <td>5250.0</td>\n",
              "      <td>1.849905</td>\n",
              "      <td>1.355874</td>\n",
              "      <td>0.0</td>\n",
              "      <td>0.000000</td>\n",
              "      <td>3.000000</td>\n",
              "      <td>3.000000</td>\n",
              "      <td>3.0</td>\n",
              "    </tr>\n",
              "    <tr>\n",
              "      <th>Driver_Sex</th>\n",
              "      <td>5250.0</td>\n",
              "      <td>0.998857</td>\n",
              "      <td>0.033790</td>\n",
              "      <td>0.0</td>\n",
              "      <td>1.000000</td>\n",
              "      <td>1.000000</td>\n",
              "      <td>1.000000</td>\n",
              "      <td>1.0</td>\n",
              "    </tr>\n",
              "    <tr>\n",
              "      <th>Cause_of_Accident</th>\n",
              "      <td>5250.0</td>\n",
              "      <td>3.040952</td>\n",
              "      <td>2.138659</td>\n",
              "      <td>0.0</td>\n",
              "      <td>1.000000</td>\n",
              "      <td>2.000000</td>\n",
              "      <td>5.000000</td>\n",
              "      <td>8.0</td>\n",
              "    </tr>\n",
              "    <tr>\n",
              "      <th>Accide_type</th>\n",
              "      <td>5250.0</td>\n",
              "      <td>1.061714</td>\n",
              "      <td>1.341485</td>\n",
              "      <td>0.0</td>\n",
              "      <td>0.000000</td>\n",
              "      <td>0.000000</td>\n",
              "      <td>3.000000</td>\n",
              "      <td>3.0</td>\n",
              "    </tr>\n",
              "    <tr>\n",
              "      <th>Road_type</th>\n",
              "      <td>5250.0</td>\n",
              "      <td>0.108000</td>\n",
              "      <td>0.425820</td>\n",
              "      <td>0.0</td>\n",
              "      <td>0.000000</td>\n",
              "      <td>0.000000</td>\n",
              "      <td>0.000000</td>\n",
              "      <td>3.0</td>\n",
              "    </tr>\n",
              "    <tr>\n",
              "      <th>Road_Geometry</th>\n",
              "      <td>5250.0</td>\n",
              "      <td>2.546095</td>\n",
              "      <td>1.059242</td>\n",
              "      <td>0.0</td>\n",
              "      <td>3.000000</td>\n",
              "      <td>3.000000</td>\n",
              "      <td>3.000000</td>\n",
              "      <td>5.0</td>\n",
              "    </tr>\n",
              "    <tr>\n",
              "      <th>Road_Condition</th>\n",
              "      <td>5250.0</td>\n",
              "      <td>0.150857</td>\n",
              "      <td>0.357944</td>\n",
              "      <td>0.0</td>\n",
              "      <td>0.000000</td>\n",
              "      <td>0.000000</td>\n",
              "      <td>0.000000</td>\n",
              "      <td>1.0</td>\n",
              "    </tr>\n",
              "    <tr>\n",
              "      <th>Driver_experiance</th>\n",
              "      <td>5250.0</td>\n",
              "      <td>12.322095</td>\n",
              "      <td>3.955562</td>\n",
              "      <td>0.0</td>\n",
              "      <td>10.000000</td>\n",
              "      <td>11.000000</td>\n",
              "      <td>15.000000</td>\n",
              "      <td>30.0</td>\n",
              "    </tr>\n",
              "    <tr>\n",
              "      <th>vehicle_type</th>\n",
              "      <td>5250.0</td>\n",
              "      <td>8.055619</td>\n",
              "      <td>4.830441</td>\n",
              "      <td>0.0</td>\n",
              "      <td>4.000000</td>\n",
              "      <td>7.000000</td>\n",
              "      <td>14.000000</td>\n",
              "      <td>16.0</td>\n",
              "    </tr>\n",
              "    <tr>\n",
              "      <th>Vichle_Service</th>\n",
              "      <td>5250.0</td>\n",
              "      <td>0.365226</td>\n",
              "      <td>0.186982</td>\n",
              "      <td>0.0</td>\n",
              "      <td>0.223404</td>\n",
              "      <td>0.329787</td>\n",
              "      <td>0.478723</td>\n",
              "      <td>1.0</td>\n",
              "    </tr>\n",
              "    <tr>\n",
              "      <th>Road_Surface</th>\n",
              "      <td>5250.0</td>\n",
              "      <td>0.770476</td>\n",
              "      <td>1.254781</td>\n",
              "      <td>0.0</td>\n",
              "      <td>0.000000</td>\n",
              "      <td>0.000000</td>\n",
              "      <td>2.000000</td>\n",
              "      <td>3.0</td>\n",
              "    </tr>\n",
              "    <tr>\n",
              "      <th>Weather_Condition</th>\n",
              "      <td>5250.0</td>\n",
              "      <td>0.932000</td>\n",
              "      <td>0.746201</td>\n",
              "      <td>0.0</td>\n",
              "      <td>0.000000</td>\n",
              "      <td>1.000000</td>\n",
              "      <td>1.000000</td>\n",
              "      <td>2.0</td>\n",
              "    </tr>\n",
              "    <tr>\n",
              "      <th>Light_Condition</th>\n",
              "      <td>5250.0</td>\n",
              "      <td>0.176381</td>\n",
              "      <td>0.381180</td>\n",
              "      <td>0.0</td>\n",
              "      <td>0.000000</td>\n",
              "      <td>0.000000</td>\n",
              "      <td>0.000000</td>\n",
              "      <td>1.0</td>\n",
              "    </tr>\n",
              "    <tr>\n",
              "      <th>time</th>\n",
              "      <td>5250.0</td>\n",
              "      <td>0.893905</td>\n",
              "      <td>0.901715</td>\n",
              "      <td>0.0</td>\n",
              "      <td>0.000000</td>\n",
              "      <td>1.000000</td>\n",
              "      <td>2.000000</td>\n",
              "      <td>2.0</td>\n",
              "    </tr>\n",
              "    <tr>\n",
              "      <th>Driver_age</th>\n",
              "      <td>5250.0</td>\n",
              "      <td>0.357274</td>\n",
              "      <td>0.228016</td>\n",
              "      <td>0.0</td>\n",
              "      <td>0.166667</td>\n",
              "      <td>0.291667</td>\n",
              "      <td>0.520833</td>\n",
              "      <td>1.0</td>\n",
              "    </tr>\n",
              "    <tr>\n",
              "      <th>Accident_Factor</th>\n",
              "      <td>5250.0</td>\n",
              "      <td>1.110476</td>\n",
              "      <td>0.707029</td>\n",
              "      <td>0.0</td>\n",
              "      <td>1.000000</td>\n",
              "      <td>1.000000</td>\n",
              "      <td>1.000000</td>\n",
              "      <td>3.0</td>\n",
              "    </tr>\n",
              "  </tbody>\n",
              "</table>\n",
              "</div>"
            ],
            "text/plain": [
              "                    count       mean       std  min        25%        50%  \\\n",
              "Accident_area      5250.0   0.785143  0.410762  0.0   1.000000   1.000000   \n",
              "Sex_of_Casualty    5250.0   0.674095  0.468757  0.0   0.000000   1.000000   \n",
              "Age_of_Casualty    5250.0   0.365226  0.186982  0.0   0.223404   0.329787   \n",
              "Driver_education   5250.0   1.849905  1.355874  0.0   0.000000   3.000000   \n",
              "Driver_Sex         5250.0   0.998857  0.033790  0.0   1.000000   1.000000   \n",
              "Cause_of_Accident  5250.0   3.040952  2.138659  0.0   1.000000   2.000000   \n",
              "Accide_type        5250.0   1.061714  1.341485  0.0   0.000000   0.000000   \n",
              "Road_type          5250.0   0.108000  0.425820  0.0   0.000000   0.000000   \n",
              "Road_Geometry      5250.0   2.546095  1.059242  0.0   3.000000   3.000000   \n",
              "Road_Condition     5250.0   0.150857  0.357944  0.0   0.000000   0.000000   \n",
              "Driver_experiance  5250.0  12.322095  3.955562  0.0  10.000000  11.000000   \n",
              "vehicle_type       5250.0   8.055619  4.830441  0.0   4.000000   7.000000   \n",
              "Vichle_Service     5250.0   0.365226  0.186982  0.0   0.223404   0.329787   \n",
              "Road_Surface       5250.0   0.770476  1.254781  0.0   0.000000   0.000000   \n",
              "Weather_Condition  5250.0   0.932000  0.746201  0.0   0.000000   1.000000   \n",
              "Light_Condition    5250.0   0.176381  0.381180  0.0   0.000000   0.000000   \n",
              "time               5250.0   0.893905  0.901715  0.0   0.000000   1.000000   \n",
              "Driver_age         5250.0   0.357274  0.228016  0.0   0.166667   0.291667   \n",
              "Accident_Factor    5250.0   1.110476  0.707029  0.0   1.000000   1.000000   \n",
              "\n",
              "                         75%   max  \n",
              "Accident_area       1.000000   1.0  \n",
              "Sex_of_Casualty     1.000000   1.0  \n",
              "Age_of_Casualty     0.478723   1.0  \n",
              "Driver_education    3.000000   3.0  \n",
              "Driver_Sex          1.000000   1.0  \n",
              "Cause_of_Accident   5.000000   8.0  \n",
              "Accide_type         3.000000   3.0  \n",
              "Road_type           0.000000   3.0  \n",
              "Road_Geometry       3.000000   5.0  \n",
              "Road_Condition      0.000000   1.0  \n",
              "Driver_experiance  15.000000  30.0  \n",
              "vehicle_type       14.000000  16.0  \n",
              "Vichle_Service      0.478723   1.0  \n",
              "Road_Surface        2.000000   3.0  \n",
              "Weather_Condition   1.000000   2.0  \n",
              "Light_Condition     0.000000   1.0  \n",
              "time                2.000000   2.0  \n",
              "Driver_age          0.520833   1.0  \n",
              "Accident_Factor     1.000000   3.0  "
            ]
          },
          "execution_count": 9,
          "metadata": {},
          "output_type": "execute_result"
        }
      ],
      "source": [
        "df.describe().T"
      ]
    },
    {
      "cell_type": "code",
      "execution_count": null,
      "id": "b4b22be7",
      "metadata": {
        "id": "b4b22be7"
      },
      "outputs": [],
      "source": [
        "# X is assigned the first 18 columns of the DataFrame df.\n",
        "X = df.iloc[:, 0:18]\n",
        "\n",
        "# Y is assigned the 19th column of the DataFrame df.\n",
        "Y = df.iloc[:,18]"
      ]
    },
    {
      "cell_type": "code",
      "execution_count": null,
      "id": "b49607c2",
      "metadata": {
        "id": "b49607c2",
        "outputId": "3c02817d-56f0-4e9e-bbd8-f1b73fe9822d"
      },
      "outputs": [
        {
          "data": {
            "text/html": [
              "<div>\n",
              "<style scoped>\n",
              "    .dataframe tbody tr th:only-of-type {\n",
              "        vertical-align: middle;\n",
              "    }\n",
              "\n",
              "    .dataframe tbody tr th {\n",
              "        vertical-align: top;\n",
              "    }\n",
              "\n",
              "    .dataframe thead th {\n",
              "        text-align: right;\n",
              "    }\n",
              "</style>\n",
              "<table border=\"1\" class=\"dataframe\">\n",
              "  <thead>\n",
              "    <tr style=\"text-align: right;\">\n",
              "      <th></th>\n",
              "      <th>Accident_area</th>\n",
              "      <th>Sex_of_Casualty</th>\n",
              "      <th>Age_of_Casualty</th>\n",
              "      <th>Driver_education</th>\n",
              "      <th>Driver_Sex</th>\n",
              "      <th>Cause_of_Accident</th>\n",
              "      <th>Accide_type</th>\n",
              "      <th>Road_type</th>\n",
              "      <th>Road_Geometry</th>\n",
              "      <th>Road_Condition</th>\n",
              "      <th>Driver_experiance</th>\n",
              "      <th>vehicle_type</th>\n",
              "      <th>Vichle_Service</th>\n",
              "      <th>Road_Surface</th>\n",
              "      <th>Weather_Condition</th>\n",
              "      <th>Light_Condition</th>\n",
              "      <th>time</th>\n",
              "      <th>Driver_age</th>\n",
              "    </tr>\n",
              "  </thead>\n",
              "  <tbody>\n",
              "    <tr>\n",
              "      <th>0</th>\n",
              "      <td>1</td>\n",
              "      <td>0</td>\n",
              "      <td>0.478723</td>\n",
              "      <td>3</td>\n",
              "      <td>1</td>\n",
              "      <td>5</td>\n",
              "      <td>3</td>\n",
              "      <td>0</td>\n",
              "      <td>3</td>\n",
              "      <td>0</td>\n",
              "      <td>10</td>\n",
              "      <td>16</td>\n",
              "      <td>0.478723</td>\n",
              "      <td>0</td>\n",
              "      <td>2</td>\n",
              "      <td>0</td>\n",
              "      <td>2</td>\n",
              "      <td>0.520833</td>\n",
              "    </tr>\n",
              "    <tr>\n",
              "      <th>1</th>\n",
              "      <td>1</td>\n",
              "      <td>0</td>\n",
              "      <td>0.244681</td>\n",
              "      <td>3</td>\n",
              "      <td>1</td>\n",
              "      <td>3</td>\n",
              "      <td>3</td>\n",
              "      <td>0</td>\n",
              "      <td>3</td>\n",
              "      <td>0</td>\n",
              "      <td>11</td>\n",
              "      <td>11</td>\n",
              "      <td>0.244681</td>\n",
              "      <td>0</td>\n",
              "      <td>2</td>\n",
              "      <td>0</td>\n",
              "      <td>2</td>\n",
              "      <td>0.583333</td>\n",
              "    </tr>\n",
              "    <tr>\n",
              "      <th>2</th>\n",
              "      <td>0</td>\n",
              "      <td>0</td>\n",
              "      <td>0.382979</td>\n",
              "      <td>3</td>\n",
              "      <td>1</td>\n",
              "      <td>5</td>\n",
              "      <td>3</td>\n",
              "      <td>0</td>\n",
              "      <td>3</td>\n",
              "      <td>0</td>\n",
              "      <td>10</td>\n",
              "      <td>7</td>\n",
              "      <td>0.382979</td>\n",
              "      <td>0</td>\n",
              "      <td>2</td>\n",
              "      <td>0</td>\n",
              "      <td>0</td>\n",
              "      <td>0.312500</td>\n",
              "    </tr>\n",
              "    <tr>\n",
              "      <th>3</th>\n",
              "      <td>1</td>\n",
              "      <td>0</td>\n",
              "      <td>0.297872</td>\n",
              "      <td>3</td>\n",
              "      <td>1</td>\n",
              "      <td>2</td>\n",
              "      <td>1</td>\n",
              "      <td>0</td>\n",
              "      <td>3</td>\n",
              "      <td>0</td>\n",
              "      <td>4</td>\n",
              "      <td>12</td>\n",
              "      <td>0.297872</td>\n",
              "      <td>0</td>\n",
              "      <td>2</td>\n",
              "      <td>0</td>\n",
              "      <td>2</td>\n",
              "      <td>0.166667</td>\n",
              "    </tr>\n",
              "    <tr>\n",
              "      <th>4</th>\n",
              "      <td>0</td>\n",
              "      <td>1</td>\n",
              "      <td>0.255319</td>\n",
              "      <td>3</td>\n",
              "      <td>1</td>\n",
              "      <td>2</td>\n",
              "      <td>1</td>\n",
              "      <td>0</td>\n",
              "      <td>3</td>\n",
              "      <td>0</td>\n",
              "      <td>4</td>\n",
              "      <td>12</td>\n",
              "      <td>0.255319</td>\n",
              "      <td>0</td>\n",
              "      <td>2</td>\n",
              "      <td>0</td>\n",
              "      <td>2</td>\n",
              "      <td>0.083333</td>\n",
              "    </tr>\n",
              "    <tr>\n",
              "      <th>...</th>\n",
              "      <td>...</td>\n",
              "      <td>...</td>\n",
              "      <td>...</td>\n",
              "      <td>...</td>\n",
              "      <td>...</td>\n",
              "      <td>...</td>\n",
              "      <td>...</td>\n",
              "      <td>...</td>\n",
              "      <td>...</td>\n",
              "      <td>...</td>\n",
              "      <td>...</td>\n",
              "      <td>...</td>\n",
              "      <td>...</td>\n",
              "      <td>...</td>\n",
              "      <td>...</td>\n",
              "      <td>...</td>\n",
              "      <td>...</td>\n",
              "      <td>...</td>\n",
              "    </tr>\n",
              "    <tr>\n",
              "      <th>5245</th>\n",
              "      <td>0</td>\n",
              "      <td>1</td>\n",
              "      <td>0.159574</td>\n",
              "      <td>1</td>\n",
              "      <td>0</td>\n",
              "      <td>7</td>\n",
              "      <td>0</td>\n",
              "      <td>2</td>\n",
              "      <td>4</td>\n",
              "      <td>1</td>\n",
              "      <td>10</td>\n",
              "      <td>10</td>\n",
              "      <td>0.159574</td>\n",
              "      <td>0</td>\n",
              "      <td>1</td>\n",
              "      <td>0</td>\n",
              "      <td>0</td>\n",
              "      <td>0.166667</td>\n",
              "    </tr>\n",
              "    <tr>\n",
              "      <th>5246</th>\n",
              "      <td>0</td>\n",
              "      <td>1</td>\n",
              "      <td>0.138298</td>\n",
              "      <td>0</td>\n",
              "      <td>1</td>\n",
              "      <td>7</td>\n",
              "      <td>0</td>\n",
              "      <td>0</td>\n",
              "      <td>4</td>\n",
              "      <td>0</td>\n",
              "      <td>10</td>\n",
              "      <td>16</td>\n",
              "      <td>0.138298</td>\n",
              "      <td>3</td>\n",
              "      <td>0</td>\n",
              "      <td>0</td>\n",
              "      <td>0</td>\n",
              "      <td>0.333333</td>\n",
              "    </tr>\n",
              "    <tr>\n",
              "      <th>5247</th>\n",
              "      <td>0</td>\n",
              "      <td>1</td>\n",
              "      <td>0.723404</td>\n",
              "      <td>0</td>\n",
              "      <td>1</td>\n",
              "      <td>7</td>\n",
              "      <td>0</td>\n",
              "      <td>0</td>\n",
              "      <td>2</td>\n",
              "      <td>1</td>\n",
              "      <td>10</td>\n",
              "      <td>16</td>\n",
              "      <td>0.723404</td>\n",
              "      <td>3</td>\n",
              "      <td>0</td>\n",
              "      <td>0</td>\n",
              "      <td>0</td>\n",
              "      <td>0.187500</td>\n",
              "    </tr>\n",
              "    <tr>\n",
              "      <th>5248</th>\n",
              "      <td>0</td>\n",
              "      <td>0</td>\n",
              "      <td>0.659574</td>\n",
              "      <td>3</td>\n",
              "      <td>0</td>\n",
              "      <td>5</td>\n",
              "      <td>3</td>\n",
              "      <td>0</td>\n",
              "      <td>0</td>\n",
              "      <td>0</td>\n",
              "      <td>8</td>\n",
              "      <td>8</td>\n",
              "      <td>0.659574</td>\n",
              "      <td>0</td>\n",
              "      <td>0</td>\n",
              "      <td>0</td>\n",
              "      <td>2</td>\n",
              "      <td>0.270833</td>\n",
              "    </tr>\n",
              "    <tr>\n",
              "      <th>5249</th>\n",
              "      <td>0</td>\n",
              "      <td>0</td>\n",
              "      <td>0.372340</td>\n",
              "      <td>3</td>\n",
              "      <td>1</td>\n",
              "      <td>2</td>\n",
              "      <td>1</td>\n",
              "      <td>0</td>\n",
              "      <td>0</td>\n",
              "      <td>0</td>\n",
              "      <td>8</td>\n",
              "      <td>2</td>\n",
              "      <td>0.372340</td>\n",
              "      <td>3</td>\n",
              "      <td>0</td>\n",
              "      <td>1</td>\n",
              "      <td>1</td>\n",
              "      <td>0.250000</td>\n",
              "    </tr>\n",
              "  </tbody>\n",
              "</table>\n",
              "<p>5250 rows × 18 columns</p>\n",
              "</div>"
            ],
            "text/plain": [
              "      Accident_area  Sex_of_Casualty  Age_of_Casualty  Driver_education  \\\n",
              "0                 1                0         0.478723                 3   \n",
              "1                 1                0         0.244681                 3   \n",
              "2                 0                0         0.382979                 3   \n",
              "3                 1                0         0.297872                 3   \n",
              "4                 0                1         0.255319                 3   \n",
              "...             ...              ...              ...               ...   \n",
              "5245              0                1         0.159574                 1   \n",
              "5246              0                1         0.138298                 0   \n",
              "5247              0                1         0.723404                 0   \n",
              "5248              0                0         0.659574                 3   \n",
              "5249              0                0         0.372340                 3   \n",
              "\n",
              "      Driver_Sex  Cause_of_Accident  Accide_type  Road_type  Road_Geometry  \\\n",
              "0              1                  5            3          0              3   \n",
              "1              1                  3            3          0              3   \n",
              "2              1                  5            3          0              3   \n",
              "3              1                  2            1          0              3   \n",
              "4              1                  2            1          0              3   \n",
              "...          ...                ...          ...        ...            ...   \n",
              "5245           0                  7            0          2              4   \n",
              "5246           1                  7            0          0              4   \n",
              "5247           1                  7            0          0              2   \n",
              "5248           0                  5            3          0              0   \n",
              "5249           1                  2            1          0              0   \n",
              "\n",
              "      Road_Condition  Driver_experiance  vehicle_type  Vichle_Service  \\\n",
              "0                  0                 10            16        0.478723   \n",
              "1                  0                 11            11        0.244681   \n",
              "2                  0                 10             7        0.382979   \n",
              "3                  0                  4            12        0.297872   \n",
              "4                  0                  4            12        0.255319   \n",
              "...              ...                ...           ...             ...   \n",
              "5245               1                 10            10        0.159574   \n",
              "5246               0                 10            16        0.138298   \n",
              "5247               1                 10            16        0.723404   \n",
              "5248               0                  8             8        0.659574   \n",
              "5249               0                  8             2        0.372340   \n",
              "\n",
              "      Road_Surface  Weather_Condition  Light_Condition  time  Driver_age  \n",
              "0                0                  2                0     2    0.520833  \n",
              "1                0                  2                0     2    0.583333  \n",
              "2                0                  2                0     0    0.312500  \n",
              "3                0                  2                0     2    0.166667  \n",
              "4                0                  2                0     2    0.083333  \n",
              "...            ...                ...              ...   ...         ...  \n",
              "5245             0                  1                0     0    0.166667  \n",
              "5246             3                  0                0     0    0.333333  \n",
              "5247             3                  0                0     0    0.187500  \n",
              "5248             0                  0                0     2    0.270833  \n",
              "5249             3                  0                1     1    0.250000  \n",
              "\n",
              "[5250 rows x 18 columns]"
            ]
          },
          "execution_count": 11,
          "metadata": {},
          "output_type": "execute_result"
        }
      ],
      "source": [
        "X"
      ]
    },
    {
      "cell_type": "code",
      "execution_count": null,
      "id": "7c732c8b",
      "metadata": {
        "id": "7c732c8b",
        "outputId": "c5098127-1667-4a4c-9ba5-cd924c22ed20"
      },
      "outputs": [
        {
          "data": {
            "text/plain": [
              "0       1\n",
              "1       0\n",
              "2       1\n",
              "3       1\n",
              "4       1\n",
              "       ..\n",
              "5245    2\n",
              "5246    2\n",
              "5247    2\n",
              "5248    0\n",
              "5249    0\n",
              "Name: Accident_Factor, Length: 5250, dtype: int64"
            ]
          },
          "execution_count": 12,
          "metadata": {},
          "output_type": "execute_result"
        }
      ],
      "source": [
        "Y"
      ]
    },
    {
      "cell_type": "code",
      "execution_count": null,
      "id": "b32ffe9b",
      "metadata": {
        "id": "b32ffe9b"
      },
      "outputs": [],
      "source": [
        "## Splitting the data into training and testing sets using train_test_split function\n",
        "X_train,X_test,y_train,y_test=train_test_split(X,Y,test_size=0.3,random_state=0)"
      ]
    },
    {
      "cell_type": "code",
      "execution_count": null,
      "id": "2db1ab06",
      "metadata": {
        "id": "2db1ab06"
      },
      "outputs": [],
      "source": [
        "mlpc = MLPClassifier(activation='logistic',max_iter=200, alpha=0.01,hidden_layer_sizes=(100, 100, 100),\n",
        "                        solver = 'adam',random_state=0)"
      ]
    },
    {
      "cell_type": "code",
      "execution_count": null,
      "id": "bb7787e1",
      "metadata": {
        "id": "bb7787e1",
        "outputId": "ac768587-3390-4edf-bb71-a21778e881cd"
      },
      "outputs": [
        {
          "name": "stdout",
          "output_type": "stream",
          "text": [
            "CPU times: total: 29.3 s\n",
            "Wall time: 6.21 s\n"
          ]
        },
        {
          "data": {
            "text/html": [
              "<style>#sk-container-id-1 {color: black;background-color: white;}#sk-container-id-1 pre{padding: 0;}#sk-container-id-1 div.sk-toggleable {background-color: white;}#sk-container-id-1 label.sk-toggleable__label {cursor: pointer;display: block;width: 100%;margin-bottom: 0;padding: 0.3em;box-sizing: border-box;text-align: center;}#sk-container-id-1 label.sk-toggleable__label-arrow:before {content: \"▸\";float: left;margin-right: 0.25em;color: #696969;}#sk-container-id-1 label.sk-toggleable__label-arrow:hover:before {color: black;}#sk-container-id-1 div.sk-estimator:hover label.sk-toggleable__label-arrow:before {color: black;}#sk-container-id-1 div.sk-toggleable__content {max-height: 0;max-width: 0;overflow: hidden;text-align: left;background-color: #f0f8ff;}#sk-container-id-1 div.sk-toggleable__content pre {margin: 0.2em;color: black;border-radius: 0.25em;background-color: #f0f8ff;}#sk-container-id-1 input.sk-toggleable__control:checked~div.sk-toggleable__content {max-height: 200px;max-width: 100%;overflow: auto;}#sk-container-id-1 input.sk-toggleable__control:checked~label.sk-toggleable__label-arrow:before {content: \"▾\";}#sk-container-id-1 div.sk-estimator input.sk-toggleable__control:checked~label.sk-toggleable__label {background-color: #d4ebff;}#sk-container-id-1 div.sk-label input.sk-toggleable__control:checked~label.sk-toggleable__label {background-color: #d4ebff;}#sk-container-id-1 input.sk-hidden--visually {border: 0;clip: rect(1px 1px 1px 1px);clip: rect(1px, 1px, 1px, 1px);height: 1px;margin: -1px;overflow: hidden;padding: 0;position: absolute;width: 1px;}#sk-container-id-1 div.sk-estimator {font-family: monospace;background-color: #f0f8ff;border: 1px dotted black;border-radius: 0.25em;box-sizing: border-box;margin-bottom: 0.5em;}#sk-container-id-1 div.sk-estimator:hover {background-color: #d4ebff;}#sk-container-id-1 div.sk-parallel-item::after {content: \"\";width: 100%;border-bottom: 1px solid gray;flex-grow: 1;}#sk-container-id-1 div.sk-label:hover label.sk-toggleable__label {background-color: #d4ebff;}#sk-container-id-1 div.sk-serial::before {content: \"\";position: absolute;border-left: 1px solid gray;box-sizing: border-box;top: 0;bottom: 0;left: 50%;z-index: 0;}#sk-container-id-1 div.sk-serial {display: flex;flex-direction: column;align-items: center;background-color: white;padding-right: 0.2em;padding-left: 0.2em;position: relative;}#sk-container-id-1 div.sk-item {position: relative;z-index: 1;}#sk-container-id-1 div.sk-parallel {display: flex;align-items: stretch;justify-content: center;background-color: white;position: relative;}#sk-container-id-1 div.sk-item::before, #sk-container-id-1 div.sk-parallel-item::before {content: \"\";position: absolute;border-left: 1px solid gray;box-sizing: border-box;top: 0;bottom: 0;left: 50%;z-index: -1;}#sk-container-id-1 div.sk-parallel-item {display: flex;flex-direction: column;z-index: 1;position: relative;background-color: white;}#sk-container-id-1 div.sk-parallel-item:first-child::after {align-self: flex-end;width: 50%;}#sk-container-id-1 div.sk-parallel-item:last-child::after {align-self: flex-start;width: 50%;}#sk-container-id-1 div.sk-parallel-item:only-child::after {width: 0;}#sk-container-id-1 div.sk-dashed-wrapped {border: 1px dashed gray;margin: 0 0.4em 0.5em 0.4em;box-sizing: border-box;padding-bottom: 0.4em;background-color: white;}#sk-container-id-1 div.sk-label label {font-family: monospace;font-weight: bold;display: inline-block;line-height: 1.2em;}#sk-container-id-1 div.sk-label-container {text-align: center;}#sk-container-id-1 div.sk-container {/* jupyter's `normalize.less` sets `[hidden] { display: none; }` but bootstrap.min.css set `[hidden] { display: none !important; }` so we also need the `!important` here to be able to override the default hidden behavior on the sphinx rendered scikit-learn.org. See: https://github.com/scikit-learn/scikit-learn/issues/21755 */display: inline-block !important;position: relative;}#sk-container-id-1 div.sk-text-repr-fallback {display: none;}</style><div id=\"sk-container-id-1\" class=\"sk-top-container\"><div class=\"sk-text-repr-fallback\"><pre>MLPClassifier(activation=&#x27;logistic&#x27;, alpha=0.01,\n",
              "              hidden_layer_sizes=(100, 100, 100), random_state=0)</pre><b>In a Jupyter environment, please rerun this cell to show the HTML representation or trust the notebook. <br />On GitHub, the HTML representation is unable to render, please try loading this page with nbviewer.org.</b></div><div class=\"sk-container\" hidden><div class=\"sk-item\"><div class=\"sk-estimator sk-toggleable\"><input class=\"sk-toggleable__control sk-hidden--visually\" id=\"sk-estimator-id-1\" type=\"checkbox\" checked><label for=\"sk-estimator-id-1\" class=\"sk-toggleable__label sk-toggleable__label-arrow\">MLPClassifier</label><div class=\"sk-toggleable__content\"><pre>MLPClassifier(activation=&#x27;logistic&#x27;, alpha=0.01,\n",
              "              hidden_layer_sizes=(100, 100, 100), random_state=0)</pre></div></div></div></div></div>"
            ],
            "text/plain": [
              "MLPClassifier(activation='logistic', alpha=0.01,\n",
              "              hidden_layer_sizes=(100, 100, 100), random_state=0)"
            ]
          },
          "execution_count": 15,
          "metadata": {},
          "output_type": "execute_result"
        }
      ],
      "source": [
        "%%time\n",
        "mlpc.fit(X_train, y_train)"
      ]
    },
    {
      "cell_type": "code",
      "execution_count": null,
      "id": "3c0c21f7",
      "metadata": {
        "id": "3c0c21f7"
      },
      "outputs": [],
      "source": [
        "mlpc1 = MLPClassifier(activation='logistic',max_iter=200,alpha=0.01,hidden_layer_sizes=(100, 100, 100),\n",
        "                        solver = 'adam',random_state=0)"
      ]
    },
    {
      "cell_type": "code",
      "execution_count": null,
      "id": "e78c181b",
      "metadata": {
        "id": "e78c181b",
        "outputId": "5c5a22c9-f44b-4765-894f-ab881bd39daf"
      },
      "outputs": [
        {
          "data": {
            "text/html": [
              "<style>#sk-container-id-2 {color: black;background-color: white;}#sk-container-id-2 pre{padding: 0;}#sk-container-id-2 div.sk-toggleable {background-color: white;}#sk-container-id-2 label.sk-toggleable__label {cursor: pointer;display: block;width: 100%;margin-bottom: 0;padding: 0.3em;box-sizing: border-box;text-align: center;}#sk-container-id-2 label.sk-toggleable__label-arrow:before {content: \"▸\";float: left;margin-right: 0.25em;color: #696969;}#sk-container-id-2 label.sk-toggleable__label-arrow:hover:before {color: black;}#sk-container-id-2 div.sk-estimator:hover label.sk-toggleable__label-arrow:before {color: black;}#sk-container-id-2 div.sk-toggleable__content {max-height: 0;max-width: 0;overflow: hidden;text-align: left;background-color: #f0f8ff;}#sk-container-id-2 div.sk-toggleable__content pre {margin: 0.2em;color: black;border-radius: 0.25em;background-color: #f0f8ff;}#sk-container-id-2 input.sk-toggleable__control:checked~div.sk-toggleable__content {max-height: 200px;max-width: 100%;overflow: auto;}#sk-container-id-2 input.sk-toggleable__control:checked~label.sk-toggleable__label-arrow:before {content: \"▾\";}#sk-container-id-2 div.sk-estimator input.sk-toggleable__control:checked~label.sk-toggleable__label {background-color: #d4ebff;}#sk-container-id-2 div.sk-label input.sk-toggleable__control:checked~label.sk-toggleable__label {background-color: #d4ebff;}#sk-container-id-2 input.sk-hidden--visually {border: 0;clip: rect(1px 1px 1px 1px);clip: rect(1px, 1px, 1px, 1px);height: 1px;margin: -1px;overflow: hidden;padding: 0;position: absolute;width: 1px;}#sk-container-id-2 div.sk-estimator {font-family: monospace;background-color: #f0f8ff;border: 1px dotted black;border-radius: 0.25em;box-sizing: border-box;margin-bottom: 0.5em;}#sk-container-id-2 div.sk-estimator:hover {background-color: #d4ebff;}#sk-container-id-2 div.sk-parallel-item::after {content: \"\";width: 100%;border-bottom: 1px solid gray;flex-grow: 1;}#sk-container-id-2 div.sk-label:hover label.sk-toggleable__label {background-color: #d4ebff;}#sk-container-id-2 div.sk-serial::before {content: \"\";position: absolute;border-left: 1px solid gray;box-sizing: border-box;top: 0;bottom: 0;left: 50%;z-index: 0;}#sk-container-id-2 div.sk-serial {display: flex;flex-direction: column;align-items: center;background-color: white;padding-right: 0.2em;padding-left: 0.2em;position: relative;}#sk-container-id-2 div.sk-item {position: relative;z-index: 1;}#sk-container-id-2 div.sk-parallel {display: flex;align-items: stretch;justify-content: center;background-color: white;position: relative;}#sk-container-id-2 div.sk-item::before, #sk-container-id-2 div.sk-parallel-item::before {content: \"\";position: absolute;border-left: 1px solid gray;box-sizing: border-box;top: 0;bottom: 0;left: 50%;z-index: -1;}#sk-container-id-2 div.sk-parallel-item {display: flex;flex-direction: column;z-index: 1;position: relative;background-color: white;}#sk-container-id-2 div.sk-parallel-item:first-child::after {align-self: flex-end;width: 50%;}#sk-container-id-2 div.sk-parallel-item:last-child::after {align-self: flex-start;width: 50%;}#sk-container-id-2 div.sk-parallel-item:only-child::after {width: 0;}#sk-container-id-2 div.sk-dashed-wrapped {border: 1px dashed gray;margin: 0 0.4em 0.5em 0.4em;box-sizing: border-box;padding-bottom: 0.4em;background-color: white;}#sk-container-id-2 div.sk-label label {font-family: monospace;font-weight: bold;display: inline-block;line-height: 1.2em;}#sk-container-id-2 div.sk-label-container {text-align: center;}#sk-container-id-2 div.sk-container {/* jupyter's `normalize.less` sets `[hidden] { display: none; }` but bootstrap.min.css set `[hidden] { display: none !important; }` so we also need the `!important` here to be able to override the default hidden behavior on the sphinx rendered scikit-learn.org. See: https://github.com/scikit-learn/scikit-learn/issues/21755 */display: inline-block !important;position: relative;}#sk-container-id-2 div.sk-text-repr-fallback {display: none;}</style><div id=\"sk-container-id-2\" class=\"sk-top-container\"><div class=\"sk-text-repr-fallback\"><pre>MLPClassifier(activation=&#x27;logistic&#x27;, alpha=0.01,\n",
              "              hidden_layer_sizes=(100, 100, 100), random_state=0)</pre><b>In a Jupyter environment, please rerun this cell to show the HTML representation or trust the notebook. <br />On GitHub, the HTML representation is unable to render, please try loading this page with nbviewer.org.</b></div><div class=\"sk-container\" hidden><div class=\"sk-item\"><div class=\"sk-estimator sk-toggleable\"><input class=\"sk-toggleable__control sk-hidden--visually\" id=\"sk-estimator-id-2\" type=\"checkbox\" checked><label for=\"sk-estimator-id-2\" class=\"sk-toggleable__label sk-toggleable__label-arrow\">MLPClassifier</label><div class=\"sk-toggleable__content\"><pre>MLPClassifier(activation=&#x27;logistic&#x27;, alpha=0.01,\n",
              "              hidden_layer_sizes=(100, 100, 100), random_state=0)</pre></div></div></div></div></div>"
            ],
            "text/plain": [
              "MLPClassifier(activation='logistic', alpha=0.01,\n",
              "              hidden_layer_sizes=(100, 100, 100), random_state=0)"
            ]
          },
          "execution_count": 17,
          "metadata": {},
          "output_type": "execute_result"
        }
      ],
      "source": [
        "mlpc1.fit(X_test, y_test)"
      ]
    },
    {
      "cell_type": "code",
      "execution_count": null,
      "id": "2944b9ac",
      "metadata": {
        "id": "2944b9ac",
        "outputId": "5c2d1733-82a2-4b88-c9ec-8b7767c1a6dd"
      },
      "outputs": [
        {
          "name": "stdout",
          "output_type": "stream",
          "text": [
            "0.9148299319727892\n",
            "3655    1\n",
            "3653    1\n",
            "1364    0\n",
            "408     2\n",
            "4991    1\n",
            "       ..\n",
            "4931    0\n",
            "3264    0\n",
            "1653    1\n",
            "2607    1\n",
            "2732    1\n",
            "Name: Accident_Factor, Length: 3675, dtype: int64\n"
          ]
        }
      ],
      "source": [
        "# Making predictions on the training data using the MLP model\n",
        "rf_pred_train = mlpc.predict(X_train)\n",
        "\n",
        "# Calculating the accuracy score by comparing the predicted labels with the actual labels of the training data\n",
        "rf_score = accuracy_score(y_train, rf_pred_train)\n",
        "\n",
        "# Printing the accuracy score\n",
        "print(rf_score)\n",
        "\n",
        "# Printing the actual labels of the training data\n",
        "print(y_train)\n"
      ]
    },
    {
      "cell_type": "code",
      "execution_count": null,
      "id": "5394c87e",
      "metadata": {
        "id": "5394c87e",
        "outputId": "6127abbb-fe81-42f4-8473-6da28f611c90"
      },
      "outputs": [
        {
          "name": "stdout",
          "output_type": "stream",
          "text": [
            "0.9111111111111111\n"
          ]
        },
        {
          "data": {
            "text/plain": [
              "(5250, 19)"
            ]
          },
          "execution_count": 19,
          "metadata": {},
          "output_type": "execute_result"
        }
      ],
      "source": [
        "# Making predictions on the testing data using the Multi-Layer Perceptron (MLP) Classifier model\n",
        "rf_pred = mlpc.predict(X_test)\n",
        "\n",
        "# Calculating the accuracy score on the testing data by comparing the predicted labels with the actual labels\n",
        "rf_score_test = accuracy_score(y_test, rf_pred)\n",
        "\n",
        "# Printing the accuracy score on the testing data\n",
        "print(rf_score_test)\n",
        "\n",
        "# Printing the shape of the DataFrame df\n",
        "df.shape"
      ]
    },
    {
      "cell_type": "code",
      "execution_count": null,
      "id": "c7d359b8",
      "metadata": {
        "id": "c7d359b8",
        "outputId": "68b630ab-f894-455f-808f-c883f1709942"
      },
      "outputs": [
        {
          "data": {
            "text/html": [
              "<style>#sk-container-id-3 {color: black;background-color: white;}#sk-container-id-3 pre{padding: 0;}#sk-container-id-3 div.sk-toggleable {background-color: white;}#sk-container-id-3 label.sk-toggleable__label {cursor: pointer;display: block;width: 100%;margin-bottom: 0;padding: 0.3em;box-sizing: border-box;text-align: center;}#sk-container-id-3 label.sk-toggleable__label-arrow:before {content: \"▸\";float: left;margin-right: 0.25em;color: #696969;}#sk-container-id-3 label.sk-toggleable__label-arrow:hover:before {color: black;}#sk-container-id-3 div.sk-estimator:hover label.sk-toggleable__label-arrow:before {color: black;}#sk-container-id-3 div.sk-toggleable__content {max-height: 0;max-width: 0;overflow: hidden;text-align: left;background-color: #f0f8ff;}#sk-container-id-3 div.sk-toggleable__content pre {margin: 0.2em;color: black;border-radius: 0.25em;background-color: #f0f8ff;}#sk-container-id-3 input.sk-toggleable__control:checked~div.sk-toggleable__content {max-height: 200px;max-width: 100%;overflow: auto;}#sk-container-id-3 input.sk-toggleable__control:checked~label.sk-toggleable__label-arrow:before {content: \"▾\";}#sk-container-id-3 div.sk-estimator input.sk-toggleable__control:checked~label.sk-toggleable__label {background-color: #d4ebff;}#sk-container-id-3 div.sk-label input.sk-toggleable__control:checked~label.sk-toggleable__label {background-color: #d4ebff;}#sk-container-id-3 input.sk-hidden--visually {border: 0;clip: rect(1px 1px 1px 1px);clip: rect(1px, 1px, 1px, 1px);height: 1px;margin: -1px;overflow: hidden;padding: 0;position: absolute;width: 1px;}#sk-container-id-3 div.sk-estimator {font-family: monospace;background-color: #f0f8ff;border: 1px dotted black;border-radius: 0.25em;box-sizing: border-box;margin-bottom: 0.5em;}#sk-container-id-3 div.sk-estimator:hover {background-color: #d4ebff;}#sk-container-id-3 div.sk-parallel-item::after {content: \"\";width: 100%;border-bottom: 1px solid gray;flex-grow: 1;}#sk-container-id-3 div.sk-label:hover label.sk-toggleable__label {background-color: #d4ebff;}#sk-container-id-3 div.sk-serial::before {content: \"\";position: absolute;border-left: 1px solid gray;box-sizing: border-box;top: 0;bottom: 0;left: 50%;z-index: 0;}#sk-container-id-3 div.sk-serial {display: flex;flex-direction: column;align-items: center;background-color: white;padding-right: 0.2em;padding-left: 0.2em;position: relative;}#sk-container-id-3 div.sk-item {position: relative;z-index: 1;}#sk-container-id-3 div.sk-parallel {display: flex;align-items: stretch;justify-content: center;background-color: white;position: relative;}#sk-container-id-3 div.sk-item::before, #sk-container-id-3 div.sk-parallel-item::before {content: \"\";position: absolute;border-left: 1px solid gray;box-sizing: border-box;top: 0;bottom: 0;left: 50%;z-index: -1;}#sk-container-id-3 div.sk-parallel-item {display: flex;flex-direction: column;z-index: 1;position: relative;background-color: white;}#sk-container-id-3 div.sk-parallel-item:first-child::after {align-self: flex-end;width: 50%;}#sk-container-id-3 div.sk-parallel-item:last-child::after {align-self: flex-start;width: 50%;}#sk-container-id-3 div.sk-parallel-item:only-child::after {width: 0;}#sk-container-id-3 div.sk-dashed-wrapped {border: 1px dashed gray;margin: 0 0.4em 0.5em 0.4em;box-sizing: border-box;padding-bottom: 0.4em;background-color: white;}#sk-container-id-3 div.sk-label label {font-family: monospace;font-weight: bold;display: inline-block;line-height: 1.2em;}#sk-container-id-3 div.sk-label-container {text-align: center;}#sk-container-id-3 div.sk-container {/* jupyter's `normalize.less` sets `[hidden] { display: none; }` but bootstrap.min.css set `[hidden] { display: none !important; }` so we also need the `!important` here to be able to override the default hidden behavior on the sphinx rendered scikit-learn.org. See: https://github.com/scikit-learn/scikit-learn/issues/21755 */display: inline-block !important;position: relative;}#sk-container-id-3 div.sk-text-repr-fallback {display: none;}</style><div id=\"sk-container-id-3\" class=\"sk-top-container\"><div class=\"sk-text-repr-fallback\"><pre>MLPClassifier(activation=&#x27;logistic&#x27;, alpha=0.01,\n",
              "              hidden_layer_sizes=(100, 100, 100), random_state=0)</pre><b>In a Jupyter environment, please rerun this cell to show the HTML representation or trust the notebook. <br />On GitHub, the HTML representation is unable to render, please try loading this page with nbviewer.org.</b></div><div class=\"sk-container\" hidden><div class=\"sk-item\"><div class=\"sk-estimator sk-toggleable\"><input class=\"sk-toggleable__control sk-hidden--visually\" id=\"sk-estimator-id-3\" type=\"checkbox\" checked><label for=\"sk-estimator-id-3\" class=\"sk-toggleable__label sk-toggleable__label-arrow\">MLPClassifier</label><div class=\"sk-toggleable__content\"><pre>MLPClassifier(activation=&#x27;logistic&#x27;, alpha=0.01,\n",
              "              hidden_layer_sizes=(100, 100, 100), random_state=0)</pre></div></div></div></div></div>"
            ],
            "text/plain": [
              "MLPClassifier(activation='logistic', alpha=0.01,\n",
              "              hidden_layer_sizes=(100, 100, 100), random_state=0)"
            ]
          },
          "execution_count": 20,
          "metadata": {},
          "output_type": "execute_result"
        }
      ],
      "source": [
        "# Training the MLPClassifier model (mlpc1) using the training data (X_train, y_train)\n",
        "mlpc1.fit(X_train, y_train)"
      ]
    },
    {
      "cell_type": "code",
      "execution_count": null,
      "id": "38a285dc",
      "metadata": {
        "id": "38a285dc",
        "outputId": "ea13742e-ec2d-4971-cc85-44748ad9ca00"
      },
      "outputs": [
        {
          "data": {
            "text/html": [
              "<style>#sk-container-id-4 {color: black;background-color: white;}#sk-container-id-4 pre{padding: 0;}#sk-container-id-4 div.sk-toggleable {background-color: white;}#sk-container-id-4 label.sk-toggleable__label {cursor: pointer;display: block;width: 100%;margin-bottom: 0;padding: 0.3em;box-sizing: border-box;text-align: center;}#sk-container-id-4 label.sk-toggleable__label-arrow:before {content: \"▸\";float: left;margin-right: 0.25em;color: #696969;}#sk-container-id-4 label.sk-toggleable__label-arrow:hover:before {color: black;}#sk-container-id-4 div.sk-estimator:hover label.sk-toggleable__label-arrow:before {color: black;}#sk-container-id-4 div.sk-toggleable__content {max-height: 0;max-width: 0;overflow: hidden;text-align: left;background-color: #f0f8ff;}#sk-container-id-4 div.sk-toggleable__content pre {margin: 0.2em;color: black;border-radius: 0.25em;background-color: #f0f8ff;}#sk-container-id-4 input.sk-toggleable__control:checked~div.sk-toggleable__content {max-height: 200px;max-width: 100%;overflow: auto;}#sk-container-id-4 input.sk-toggleable__control:checked~label.sk-toggleable__label-arrow:before {content: \"▾\";}#sk-container-id-4 div.sk-estimator input.sk-toggleable__control:checked~label.sk-toggleable__label {background-color: #d4ebff;}#sk-container-id-4 div.sk-label input.sk-toggleable__control:checked~label.sk-toggleable__label {background-color: #d4ebff;}#sk-container-id-4 input.sk-hidden--visually {border: 0;clip: rect(1px 1px 1px 1px);clip: rect(1px, 1px, 1px, 1px);height: 1px;margin: -1px;overflow: hidden;padding: 0;position: absolute;width: 1px;}#sk-container-id-4 div.sk-estimator {font-family: monospace;background-color: #f0f8ff;border: 1px dotted black;border-radius: 0.25em;box-sizing: border-box;margin-bottom: 0.5em;}#sk-container-id-4 div.sk-estimator:hover {background-color: #d4ebff;}#sk-container-id-4 div.sk-parallel-item::after {content: \"\";width: 100%;border-bottom: 1px solid gray;flex-grow: 1;}#sk-container-id-4 div.sk-label:hover label.sk-toggleable__label {background-color: #d4ebff;}#sk-container-id-4 div.sk-serial::before {content: \"\";position: absolute;border-left: 1px solid gray;box-sizing: border-box;top: 0;bottom: 0;left: 50%;z-index: 0;}#sk-container-id-4 div.sk-serial {display: flex;flex-direction: column;align-items: center;background-color: white;padding-right: 0.2em;padding-left: 0.2em;position: relative;}#sk-container-id-4 div.sk-item {position: relative;z-index: 1;}#sk-container-id-4 div.sk-parallel {display: flex;align-items: stretch;justify-content: center;background-color: white;position: relative;}#sk-container-id-4 div.sk-item::before, #sk-container-id-4 div.sk-parallel-item::before {content: \"\";position: absolute;border-left: 1px solid gray;box-sizing: border-box;top: 0;bottom: 0;left: 50%;z-index: -1;}#sk-container-id-4 div.sk-parallel-item {display: flex;flex-direction: column;z-index: 1;position: relative;background-color: white;}#sk-container-id-4 div.sk-parallel-item:first-child::after {align-self: flex-end;width: 50%;}#sk-container-id-4 div.sk-parallel-item:last-child::after {align-self: flex-start;width: 50%;}#sk-container-id-4 div.sk-parallel-item:only-child::after {width: 0;}#sk-container-id-4 div.sk-dashed-wrapped {border: 1px dashed gray;margin: 0 0.4em 0.5em 0.4em;box-sizing: border-box;padding-bottom: 0.4em;background-color: white;}#sk-container-id-4 div.sk-label label {font-family: monospace;font-weight: bold;display: inline-block;line-height: 1.2em;}#sk-container-id-4 div.sk-label-container {text-align: center;}#sk-container-id-4 div.sk-container {/* jupyter's `normalize.less` sets `[hidden] { display: none; }` but bootstrap.min.css set `[hidden] { display: none !important; }` so we also need the `!important` here to be able to override the default hidden behavior on the sphinx rendered scikit-learn.org. See: https://github.com/scikit-learn/scikit-learn/issues/21755 */display: inline-block !important;position: relative;}#sk-container-id-4 div.sk-text-repr-fallback {display: none;}</style><div id=\"sk-container-id-4\" class=\"sk-top-container\"><div class=\"sk-text-repr-fallback\"><pre>MLPClassifier(activation=&#x27;logistic&#x27;, alpha=0.01,\n",
              "              hidden_layer_sizes=(100, 100, 100), random_state=0)</pre><b>In a Jupyter environment, please rerun this cell to show the HTML representation or trust the notebook. <br />On GitHub, the HTML representation is unable to render, please try loading this page with nbviewer.org.</b></div><div class=\"sk-container\" hidden><div class=\"sk-item\"><div class=\"sk-estimator sk-toggleable\"><input class=\"sk-toggleable__control sk-hidden--visually\" id=\"sk-estimator-id-4\" type=\"checkbox\" checked><label for=\"sk-estimator-id-4\" class=\"sk-toggleable__label sk-toggleable__label-arrow\">MLPClassifier</label><div class=\"sk-toggleable__content\"><pre>MLPClassifier(activation=&#x27;logistic&#x27;, alpha=0.01,\n",
              "              hidden_layer_sizes=(100, 100, 100), random_state=0)</pre></div></div></div></div></div>"
            ],
            "text/plain": [
              "MLPClassifier(activation='logistic', alpha=0.01,\n",
              "              hidden_layer_sizes=(100, 100, 100), random_state=0)"
            ]
          },
          "execution_count": 21,
          "metadata": {},
          "output_type": "execute_result"
        }
      ],
      "source": [
        "# Training the MLPClassifier model (mlpc1) using the training data (X_train, y_train)\n",
        "mlpc1.fit(X_train, y_train)"
      ]
    },
    {
      "cell_type": "code",
      "execution_count": null,
      "id": "b3ade158",
      "metadata": {
        "id": "b3ade158",
        "outputId": "2159aaec-4ae3-402d-b3ef-fff5d26bd4ab"
      },
      "outputs": [
        {
          "name": "stdout",
          "output_type": "stream",
          "text": [
            "0.9148299319727892\n",
            "              precision    recall  f1-score   support\n",
            "\n",
            "           0       0.84      0.55      0.66       459\n",
            "           1       0.92      0.98      0.95      2645\n",
            "           2       0.94      0.97      0.95       303\n",
            "           3       0.89      0.87      0.88       268\n",
            "\n",
            "    accuracy                           0.91      3675\n",
            "   macro avg       0.90      0.84      0.86      3675\n",
            "weighted avg       0.91      0.91      0.91      3675\n",
            "\n"
          ]
        }
      ],
      "source": [
        "# Predicting the labels of the training data using the trained MLPC model\n",
        "mlp_pred_train = mlpc.predict(X_train)\n",
        "\n",
        "# Calculating the accuracy score of the MLPC model on the training data\n",
        "mlp_score = accuracy_score(y_train, mlp_pred_train)\n",
        "\n",
        "# Printing the accuracy score of the MLPC model on the training data\n",
        "print(mlp_score)\n",
        "\n",
        "# Printing a classification report, which includes precision, recall, F1-score, and support for each class\n",
        "# This report provides a detailed evaluation of the model's performance on the training data\n",
        "print(classification_report(y_train, mlp_pred_train))"
      ]
    },
    {
      "cell_type": "code",
      "execution_count": null,
      "id": "37d16594",
      "metadata": {
        "id": "37d16594",
        "outputId": "698fdecc-3f8d-4e52-c742-743c64b11ceb"
      },
      "outputs": [
        {
          "name": "stdout",
          "output_type": "stream",
          "text": [
            "0.8983784849470395 0.8401390833328387 0.8612485324991992\n"
          ]
        }
      ],
      "source": [
        "# Calculating precision, recall, and F1-score on the training data using the macro-average method\n",
        "# The macro-average calculates the metric independently for each class and then takes the average, giving each class equal weight\n",
        "mlp_precision = precision_score(y_train, mlp_pred_train, average='macro')\n",
        "mlp_recall = recall_score(y_train, mlp_pred_train, average='macro')\n",
        "mlp_f1 = f1_score(y_train, mlp_pred_train, average='macro')\n",
        "# Printing precision, recall, and F1-score on the training data\n",
        "print(mlp_precision,mlp_recall,mlp_f1)"
      ]
    },
    {
      "cell_type": "code",
      "execution_count": null,
      "id": "c9cddee8",
      "metadata": {
        "id": "c9cddee8",
        "outputId": "5f7f1f56-e77a-4023-d264-e1a9264224da"
      },
      "outputs": [
        {
          "name": "stdout",
          "output_type": "stream",
          "text": [
            "Training Precision: 0.8983784849470395\n",
            "Training Recall: 0.8401390833328387\n",
            "Training F1-score: 0.8612485324991992\n"
          ]
        },
        {
          "data": {
            "text/plain": [
              "Text(0.5, 3.722222222222216, 'Predicted Value')"
            ]
          },
          "execution_count": 24,
          "metadata": {},
          "output_type": "execute_result"
        },
        {
          "data": {
            "image/png": "[encoded data removed]",
            "text/plain": [
              "<Figure size 500x300 with 2 Axes>"
            ]
          },
          "metadata": {},
          "output_type": "display_data"
        }
      ],
      "source": [
        "mlp_precision = precision_score(y_train, mlp_pred_train, average='macro')\n",
        "mlp_recall = recall_score(y_train, mlp_pred_train, average='macro')\n",
        "mlp_f1 = f1_score(y_train, mlp_pred_train, average='macro')\n",
        "\n",
        "# Printing precision, recall, and F1-score on the training data\n",
        "print(\"Training Precision:\", mlp_precision)\n",
        "print(\"Training Recall:\", mlp_recall)\n",
        "print(\"Training F1-score:\", mlp_f1)\n",
        "\n",
        "# Calculating the confusion matrix for the MLP Classifier on the training data\n",
        "cm_mlp = confusion_matrix(y_train, mlp_pred_train)\n",
        "\n",
        "# Creating a DataFrame to visualize the confusion matrix with labeled rows and columns\n",
        "cm_matrix_mlp = pd.DataFrame(data=cm_mlp,\n",
        "                             columns=['Environmental(0)', 'Human(1)', 'Road(2)', 'Vehicle(3)'],\n",
        "                             index=['Environmental(0)', 'Human(1)', 'Road(2)', 'Vehicle(3)'])\n",
        "\n",
        "# Creating a heatmap to visualize the confusion matrix\n",
        "fig, ax = plt.subplots(figsize=(5, 3))\n",
        "sns.heatmap(cm_matrix_mlp, annot=True, fmt='d', cmap='YlGnBu')\n",
        "\n",
        "# Adding labels and title to the heatmap\n",
        "plt.ylabel('Actual value', fontsize=12)\n",
        "plt.title('Confusion Matrix for MLP Classifier', fontsize=12)\n",
        "plt.xlabel('Predicted Value', fontsize=12)"
      ]
    },
    {
      "cell_type": "code",
      "execution_count": null,
      "id": "a2c336fa",
      "metadata": {
        "id": "a2c336fa",
        "outputId": "79bc18fb-21f0-4cb5-dbfb-d3e24904d9d0"
      },
      "outputs": [
        {
          "name": "stdout",
          "output_type": "stream",
          "text": [
            "[0.81333333 0.87047619 0.82666667 0.89904762 0.86095238 0.87809524\n",
            " 0.83238095 0.92190476 0.92952381 0.84380952]\n",
            "Accuracy = 0.8676190476190475\n"
          ]
        }
      ],
      "source": [
        "from sklearn.neural_network import MLPClassifier  # Importing MLPClassifier\n",
        "from sklearn.model_selection import cross_val_score, cross_val_predict  # Importing cross-validation functions\n",
        "\n",
        "# Creating an MLPClassifier model with specified parameters\n",
        "mlpc = MLPClassifier(activation='relu', max_iter=200, alpha=0.01, hidden_layer_sizes=(100, 100, 100),\n",
        "                     solver='adam', random_state=0)\n",
        "\n",
        "# Performing cross-validation using the created MLPClassifier model\n",
        "# cross_val_score computes the accuracy of the model using cross-validation\n",
        "cvcross3 = cross_val_score(mlpc, X, Y, cv=10)\n",
        "\n",
        "# Printing the accuracy scores obtained from cross-validation\n",
        "print(cvcross3)\n",
        "\n",
        "# Printing the mean accuracy across all folds\n",
        "print(\"Accuracy =\", cvcross3.mean())\n",
        "\n",
        "# Storing the mean accuracy obtained from cross-validation\n",
        "mlpc_score_cv = cvcross3.mean()\n",
        "\n",
        "# Performing cross-validated predictions using the MLPClassifier model\n",
        "# cross_val_predict generates cross-validated estimates for each input data point\n",
        "y_pred3 = cross_val_predict(mlpc, X, Y, cv=10)"
      ]
    },
    {
      "cell_type": "code",
      "execution_count": null,
      "id": "11a186c8",
      "metadata": {
        "id": "11a186c8",
        "outputId": "b82eccd5-f43a-4051-f91a-9468054f3b25"
      },
      "outputs": [
        {
          "name": "stdout",
          "output_type": "stream",
          "text": [
            "              precision    recall  f1-score   support\n",
            "\n",
            "           0       0.52      0.58      0.55       590\n",
            "           1       0.93      0.91      0.92      3866\n",
            "           2       0.90      0.93      0.92       417\n",
            "           3       0.79      0.84      0.81       377\n",
            "\n",
            "    accuracy                           0.87      5250\n",
            "   macro avg       0.79      0.82      0.80      5250\n",
            "weighted avg       0.87      0.87      0.87      5250\n",
            "\n"
          ]
        }
      ],
      "source": [
        "# Printing a classification report to evaluate the performance of predicted labels (y_pred3) against the true labels (Y)\n",
        "# The classification report provides metrics such as precision, recall, F1-score, and support for each class\n",
        "print(classification_report(y_pred3, Y))"
      ]
    },
    {
      "cell_type": "code",
      "execution_count": null,
      "id": "836c4ccd",
      "metadata": {
        "scrolled": true,
        "id": "836c4ccd",
        "outputId": "c71713a6-5a1b-45c9-a567-08fc93764949"
      },
      "outputs": [
        {
          "data": {
            "image/png": "[encoded data removed]",
            "text/plain": [
              "<Figure size 640x480 with 1 Axes>"
            ]
          },
          "metadata": {},
          "output_type": "display_data"
        }
      ],
      "source": [
        "# Training the MLPClassifier models mlpc and mlpc1\n",
        "mlpc.fit(X_train, y_train)\n",
        "mlpc1.fit(X_train, y_train)\n",
        "\n",
        "# Extracting the loss values from the models\n",
        "losses_mlpc = mlpc.loss_curve_\n",
        "losses_mlpc1 = mlpc1.loss_curve_\n",
        "\n",
        "# Plotting the loss curves of the two models\n",
        "plt.plot(losses_mlpc, label='Model 1 Training Loss')\n",
        "plt.plot(losses_mlpc1, label='Model 2 Training Loss')\n",
        "\n",
        "# Adding title and labels to the plot\n",
        "plt.title(\"Loss Curve\", fontsize=14)\n",
        "plt.xlabel('Epoch')\n",
        "plt.ylabel('Loss')\n",
        "\n",
        "# Adding a legend to differentiate between the two curves\n",
        "plt.legend()\n",
        "\n",
        "# Displaying the plot\n",
        "plt.show()"
      ]
    },
    {
      "cell_type": "code",
      "execution_count": null,
      "id": "1294555e",
      "metadata": {
        "id": "1294555e",
        "outputId": "a1c69686-850a-46fb-bf66-ba4e0f991600"
      },
      "outputs": [
        {
          "ename": "NameError",
          "evalue": "name 'rfc' is not defined",
          "output_type": "error",
          "traceback": [
            "\u001b[1;31m---------------------------------------------------------------------------\u001b[0m",
            "\u001b[1;31mNameError\u001b[0m                                 Traceback (most recent call last)",
            "Cell \u001b[1;32mIn[28], line 3\u001b[0m\n\u001b[0;32m      1\u001b[0m \u001b[38;5;28;01mimport\u001b[39;00m \u001b[38;5;21;01mpickle\u001b[39;00m\n\u001b[0;32m      2\u001b[0m \u001b[38;5;28;01mwith\u001b[39;00m \u001b[38;5;28mopen\u001b[39m(\u001b[38;5;124m'\u001b[39m\u001b[38;5;124mFinalModelMLP.pkl\u001b[39m\u001b[38;5;124m'\u001b[39m,\u001b[38;5;124m'\u001b[39m\u001b[38;5;124mwb\u001b[39m\u001b[38;5;124m'\u001b[39m) \u001b[38;5;28;01mas\u001b[39;00m f:\n\u001b[1;32m----> 3\u001b[0m     pickle\u001b[38;5;241m.\u001b[39mdump(rfc,f)\n",
            "\u001b[1;31mNameError\u001b[0m: name 'rfc' is not defined"
          ]
        }
      ],
      "source": [
        "import pickle\n",
        "with open('FinalModelMLP.pkl','wb') as f:\n",
        "    pickle.dump(rfc,f)"
      ]
    },
    {
      "cell_type": "code",
      "execution_count": null,
      "id": "fc5ba2ba",
      "metadata": {
        "id": "fc5ba2ba"
      },
      "outputs": [],
      "source": [
        "prediction_test =rfc.predict(X_test)\n",
        "print(prediction_test)"
      ]
    },
    {
      "cell_type": "code",
      "execution_count": null,
      "id": "1addfe5e",
      "metadata": {
        "id": "1addfe5e"
      },
      "outputs": [],
      "source": [
        "import pickle\n",
        "loaded_rfc=pickle.load(open('FinalModelMLP.pkl', 'rb'))\n",
        "loaded_rfc.predict(X_train)"
      ]
    },
    {
      "cell_type": "markdown",
      "id": "41d77f26",
      "metadata": {
        "id": "41d77f26"
      },
      "source": [
        "# Decision Tree Clasifier"
      ]
    },
    {
      "cell_type": "code",
      "execution_count": null,
      "id": "c3fe83cf",
      "metadata": {
        "id": "c3fe83cf"
      },
      "outputs": [],
      "source": [
        "df.head()"
      ]
    },
    {
      "cell_type": "code",
      "execution_count": null,
      "id": "d003d498",
      "metadata": {
        "id": "d003d498"
      },
      "outputs": [],
      "source": [
        "X_train, X_test, y_train, y_test = train_test_split(X,Y , random_state=104, train_size=0.7, shuffle=True)\n",
        "\n",
        "# printing out train and test sets\n",
        "X\n",
        "\n",
        "X_train,X_test,y_train,y_test=train_test_split(X,Y,test_size=0.3,random_state=0)"
      ]
    },
    {
      "cell_type": "code",
      "execution_count": null,
      "id": "2c7acd14",
      "metadata": {
        "id": "2c7acd14"
      },
      "outputs": [],
      "source": [
        "X"
      ]
    },
    {
      "cell_type": "code",
      "execution_count": null,
      "id": "a1b41deb",
      "metadata": {
        "id": "a1b41deb"
      },
      "outputs": [],
      "source": [
        "from sklearn.tree import DecisionTreeClassifier,plot_tree\n",
        "from sklearn.model_selection import train_test_split\n",
        "# to use all data for training\n",
        "# X is assigned the first 18 columns of the DataFrame df.\n",
        "X = df.iloc[:, 0:18]\n",
        "\n",
        "# Y is assigned the 19th column of the DataFrame df.\n",
        "Y = df.iloc[:,18]\n",
        "# to split the data for training & testing using 80:20 perecntage\n",
        "X_train, X_test, y_train, y_test = train_test_split(X,Y,test_size=0.3)\n",
        "\n",
        "model = DecisionTreeClassifier() \t # create model\n",
        "\n",
        "# train the classifier using 80% train data set\n",
        "model.fit(X_train,y_train)\n",
        "\n",
        "plt.figure(\"Decision Tree\",figsize=[12,5])\n",
        "plot_tree(model,fontsize=10)\n",
        "plt.show()\n",
        "\n",
        "# save the model using joblib dump\n",
        "joblib.dump(model,'decisionTree.model')"
      ]
    },
    {
      "cell_type": "code",
      "execution_count": null,
      "id": "7040f9fb",
      "metadata": {
        "id": "7040f9fb"
      },
      "outputs": [],
      "source": [
        "import joblib\n",
        "joblib.load('decisionTree.model')\n",
        "from sklearn import tree\n",
        "decision_tree = tree.DecisionTreeClassifier(criterion='gini',max_features=10,max_depth=11,min_samples_leaf=5,random_state=0)\n",
        "decision_tree.fit(X_train, y_train)\n",
        "\n",
        "dt_pred_train = decision_tree.predict(X_train)\n",
        "dt_score=accuracy_score(y_train,dt_pred_train)\n",
        "print(dt_score)\n",
        "\n",
        "dt_pred = decision_tree.predict(X_test)\n",
        "dt_score_test=accuracy_score(y_test,dt_pred)\n",
        "print(dt_score_test)\n",
        "\n",
        "#Expermental result for Decision tree algorithm\n",
        "print(\"Training Accuracy  \",dt_score)\n",
        "print(\"Test Accuracy  \",dt_score_test)\n",
        "print(\"classification_report\" ,(y_train, dt_pred_train))"
      ]
    },
    {
      "cell_type": "code",
      "execution_count": null,
      "id": "c880a7a4",
      "metadata": {
        "id": "c880a7a4"
      },
      "outputs": [],
      "source": [
        "print(classification_report(y_test,dt_pred))\n",
        "\n",
        "\n",
        "dt_precision=precision_score(y_train, dt_pred_train, average='macro')\n",
        "dt_recall=recall_score(y_train, dt_pred_train, average='macro')\n",
        "dt_f1=f1_score(y_train,dt_pred_train, average='macro')\n",
        "print(dt_precision,dt_recall,dt_f1)\n",
        "\n",
        "cm_dt = confusion_matrix(y_train,dt_pred_train)\n",
        "cm_matrix = pd.DataFrame(data=cm_dt, columns=['Environmental(0)','Human(1)','Road(2)', 'Vehicle(3)'],\n",
        "                                 index=['Environmental(0)','Human(1)','Road(2)', 'Vehicle(3)'])\n",
        "fig,ax=plt.subplots(figsize=(5,3))\n",
        "sns.heatmap(cm_matrix, annot=True, fmt='d', cmap='YlGnBu')\n",
        "plt.ylabel('Actual value' , fontsize = 12)\n",
        "plt.title('confision matrix for Decision  Tree classifier',fontsize=12)\n",
        "plt.xlabel('Predicted Value', fontsize = 12,)"
      ]
    },
    {
      "cell_type": "code",
      "execution_count": null,
      "id": "2d6cbd87",
      "metadata": {
        "id": "2d6cbd87"
      },
      "outputs": [],
      "source": [
        "import pickle\n",
        "with open('FinalModeld_tree.pkl','wb') as f:\n",
        "    pickle.dump(decision_tree,f)"
      ]
    },
    {
      "cell_type": "code",
      "execution_count": null,
      "id": "2b3e08eb",
      "metadata": {
        "id": "2b3e08eb"
      },
      "outputs": [],
      "source": [
        "prediction_test =decision_tree.predict(X_test)\n",
        "print(prediction_test)"
      ]
    },
    {
      "cell_type": "code",
      "execution_count": null,
      "id": "d4840c28",
      "metadata": {
        "id": "d4840c28"
      },
      "outputs": [],
      "source": [
        "prediction_test =decision_tree.predict(X_train)\n",
        "print(prediction_test)"
      ]
    },
    {
      "cell_type": "code",
      "execution_count": null,
      "id": "16f9fde3",
      "metadata": {
        "id": "16f9fde3"
      },
      "outputs": [],
      "source": [
        "import pickle\n",
        "loaded_decision_tree=pickle.load(open('FinalModelD_Tree.pkl', 'rb'))\n",
        "loaded_decision_tree.predict(X_train)"
      ]
    },
    {
      "cell_type": "markdown",
      "id": "351afe8e",
      "metadata": {
        "id": "351afe8e"
      },
      "source": [
        "# Random Forest Clasifier"
      ]
    },
    {
      "cell_type": "code",
      "execution_count": null,
      "id": "fb26e1b6",
      "metadata": {
        "id": "fb26e1b6"
      },
      "outputs": [],
      "source": [
        "df = pd.read_csv('Traffic_Accident_dataset.csv')"
      ]
    },
    {
      "cell_type": "code",
      "execution_count": null,
      "id": "a3b9c1f5",
      "metadata": {
        "id": "a3b9c1f5"
      },
      "outputs": [],
      "source": [
        "df.head()"
      ]
    },
    {
      "cell_type": "code",
      "execution_count": null,
      "id": "ca169b35",
      "metadata": {
        "id": "ca169b35"
      },
      "outputs": [],
      "source": [
        "X = df.iloc[:, 0:18]\n",
        "Y = df.iloc[:,18]"
      ]
    },
    {
      "cell_type": "code",
      "execution_count": null,
      "id": "2e387f2e",
      "metadata": {
        "id": "2e387f2e"
      },
      "outputs": [],
      "source": [
        "X_train,X_test,y_train,y_test=train_test_split(X,Y,test_size=0.3,random_state=0)"
      ]
    },
    {
      "cell_type": "code",
      "execution_count": null,
      "id": "1dd5f15d",
      "metadata": {
        "id": "1dd5f15d"
      },
      "outputs": [],
      "source": [
        "from sklearn.model_selection import train_test_split\n",
        "X_train, X_test,y_train,y_test=train_test_split(X, Y, test_size=0.3,random_state=0)"
      ]
    },
    {
      "cell_type": "code",
      "execution_count": null,
      "id": "7fdb1154",
      "metadata": {
        "id": "7fdb1154"
      },
      "outputs": [],
      "source": [
        "%%time\n",
        "rfc = RandomForestClassifier(n_estimators=150, max_depth=14, max_features=14, criterion=\"gini\", random_state=0)\n",
        "rfc.fit(X_train, y_train)"
      ]
    },
    {
      "cell_type": "code",
      "execution_count": null,
      "id": "5139b59e",
      "metadata": {
        "id": "5139b59e"
      },
      "outputs": [],
      "source": [
        "df.shape"
      ]
    },
    {
      "cell_type": "code",
      "execution_count": null,
      "id": "3cd3e713",
      "metadata": {
        "id": "3cd3e713"
      },
      "outputs": [],
      "source": [
        "rf_pred_train = rfc.predict(X_train)\n",
        "rf_score=accuracy_score(y_train,rf_pred_train)\n",
        "print(rf_score)\n",
        "print(y_train)"
      ]
    },
    {
      "cell_type": "code",
      "execution_count": null,
      "id": "becc7270",
      "metadata": {
        "id": "becc7270"
      },
      "outputs": [],
      "source": [
        "rf_pred = rfc.predict(X_test)\n",
        "rf_score_test=accuracy_score(y_test,rf_pred)\n",
        "print(rf_score_test)\n",
        "df.shape"
      ]
    },
    {
      "cell_type": "code",
      "execution_count": null,
      "id": "71ee1550",
      "metadata": {
        "id": "71ee1550"
      },
      "outputs": [],
      "source": [
        "#Expermental result for Random forest classifier\n",
        "rf_pred_train = rfc.predict(X_train)\n",
        "rf_score=accuracy_score(y_train,rf_pred_train)\n",
        "print(\"Training Accuracy  \",rf_score)\n",
        "print(\"Test Accuracy  \",rf_score_test)\n",
        "print(classification_report(y_train, rf_pred_train))"
      ]
    },
    {
      "cell_type": "code",
      "execution_count": null,
      "id": "eb9a478b",
      "metadata": {
        "id": "eb9a478b"
      },
      "outputs": [],
      "source": [
        "print(classification_report(y_test,rf_pred))"
      ]
    },
    {
      "cell_type": "code",
      "execution_count": null,
      "id": "907e23c0",
      "metadata": {
        "id": "907e23c0"
      },
      "outputs": [],
      "source": [
        "rf_precision=precision_score(y_train, rf_pred_train, average='macro')\n",
        "rf_recall=recall_score(y_train, rf_pred_train, average='macro')\n",
        "rf_f1=f1_score(y_train, rf_pred_train, average='macro')\n",
        "print(rf_precision,rf_recall,rf_f1)"
      ]
    },
    {
      "cell_type": "code",
      "execution_count": null,
      "id": "02a0a76c",
      "metadata": {
        "id": "02a0a76c"
      },
      "outputs": [],
      "source": [
        "cm_rf = confusion_matrix(y_train,rf_pred_train)\n",
        "cm_matrix = pd.DataFrame(data=cm_rf, columns=['Environmental(0)','Human(1)','Road(2)','Vehicle(3)'],\n",
        "                                 index=['Environmental(0)','Human(1)','Road(2)','Vehicle(3)'])\n",
        "fig,ax=plt.subplots(figsize=(5,3))\n",
        "sns.heatmap(cm_matrix, annot=True, fmt='d', cmap='YlGnBu')\n",
        "plt.ylabel('Actual value' , fontsize = 12)\n",
        "plt.title('confusion matrix for Random Forest classifier',fontsize=12)\n",
        "plt.xlabel('Predicted Value', fontsize = 12,)"
      ]
    },
    {
      "cell_type": "code",
      "execution_count": null,
      "id": "b6e12cbe",
      "metadata": {
        "id": "b6e12cbe"
      },
      "outputs": [],
      "source": [
        "from sklearn.model_selection import cross_val_score, cross_val_predict"
      ]
    },
    {
      "cell_type": "code",
      "execution_count": null,
      "id": "87f8bc0a",
      "metadata": {
        "id": "87f8bc0a"
      },
      "outputs": [],
      "source": [
        "rf=RandomForestClassifier(n_estimators=150,max_depth=8,random_state=0,max_features=14,max_leaf_nodes=50)\n",
        "cvcross=cross_val_score(rf,X,Y,cv=10)\n",
        "print(cvcross)\n",
        "rf_score_cv=cvcross.mean()\n",
        "print(rf_score_cv)\n",
        "y_pred=cross_val_predict(rf,X,Y,cv=10)"
      ]
    },
    {
      "cell_type": "code",
      "execution_count": null,
      "id": "4c19784d",
      "metadata": {
        "id": "4c19784d"
      },
      "outputs": [],
      "source": [
        "print(classification_report(y_pred,Y))"
      ]
    },
    {
      "cell_type": "code",
      "execution_count": null,
      "id": "f9ed644a",
      "metadata": {
        "id": "f9ed644a"
      },
      "outputs": [],
      "source": [
        "#compare the accuracy of different random forest algorithms using train, cross-validation and test\n",
        "scores1 = [rf_score,rf_score_test,rf_score_cv]\n",
        "algorithms1 = [\"Training\",\"Test\",\"Cross Validation\"]\n",
        "\n",
        "print(\"The accuracy score achieved using \\n\")\n",
        "\n",
        "for i in range(len(algorithms1)):\n",
        "    print(algorithms1[i]+\" is: \"+str(scores1[i])+\" %\")"
      ]
    },
    {
      "cell_type": "code",
      "execution_count": null,
      "id": "dce72f91",
      "metadata": {
        "id": "dce72f91"
      },
      "outputs": [],
      "source": [
        "import pickle\n",
        "with open('FinalModelRFC.pkl','wb') as f:\n",
        "    pickle.dump(rfc,f)"
      ]
    },
    {
      "cell_type": "code",
      "execution_count": null,
      "id": "38be4418",
      "metadata": {
        "id": "38be4418"
      },
      "outputs": [],
      "source": [
        "prediction_test =rfc.predict(X_test)\n",
        "print(prediction_test)"
      ]
    },
    {
      "cell_type": "code",
      "execution_count": null,
      "id": "4a2ed1db",
      "metadata": {
        "id": "4a2ed1db"
      },
      "outputs": [],
      "source": [
        "prediction_test =rfc.predict(X_train)\n",
        "print(prediction_test)"
      ]
    },
    {
      "cell_type": "code",
      "execution_count": null,
      "id": "94a65df9",
      "metadata": {
        "id": "94a65df9"
      },
      "outputs": [],
      "source": [
        "import pickle\n",
        "with open('FinalModeld_tree.pkl','wb') as f:\n",
        "    pickle.dump(decision_tree,f)"
      ]
    },
    {
      "cell_type": "code",
      "execution_count": null,
      "id": "8a358f15",
      "metadata": {
        "id": "8a358f15"
      },
      "outputs": [],
      "source": [
        "# GUI\n",
        "import ipywidgets as widgets\n",
        "from IPython.display import display, clear_output\n",
        "\n",
        "\n",
        "# Load the trained model\n",
        "loaded_rfc = pickle.load(open('FinalModelRFC.pkl', 'rb'))\n",
        "\n",
        "# Load  data\n",
        "df = pd.read_csv('Traffic_Accident_dataset.csv')\n",
        "# Assuming the first 18 columns are features and the 19th is the target\n",
        "feature_names = df.columns[:18].tolist()\n",
        "\n",
        "# Create input widgets\n",
        "input_widgets = {}\n",
        "for feature in feature_names:\n",
        "    input_widgets[feature] = widgets.Text(description=feature)\n",
        "\n",
        "predict_button = widgets.Button(description=\"Predict\")\n",
        "output = widgets.Output()\n",
        "\n",
        "def on_predict_button_clicked(b):\n",
        "    with output:\n",
        "        clear_output()\n",
        "        input_data = []\n",
        "        for feature in feature_names:\n",
        "            try:\n",
        "              input_data.append(float(input_widgets[feature].value))\n",
        "            except ValueError:\n",
        "              print(f\"Invalid input for {feature}. Please enter a number.\")\n",
        "              return\n",
        "\n",
        "        input_df = pd.DataFrame([input_data], columns=feature_names)\n",
        "        prediction = loaded_rfc.predict(input_df)\n",
        "        # Map numerical prediction to labels (e.g., 0 -> 'Environmental')\n",
        "        label_mapping = {0: 'Environmental', 1: 'Human', 2: 'Road', 3: 'Vehicle'}\n",
        "        predicted_label = label_mapping.get(prediction[0], \"Unknown\")\n",
        "\n",
        "        print(f\"Prediction: {predicted_label}\")\n",
        "\n",
        "predict_button.on_click(on_predict_button_clicked)\n",
        "\n",
        "# Display the widgets\n",
        "display(*[input_widgets[feature] for feature in feature_names], predict_button, output)"
      ]
    },
    {
      "cell_type": "code",
      "execution_count": null,
      "id": "dcee22e3",
      "metadata": {
        "id": "dcee22e3"
      },
      "outputs": [],
      "source": []
    },
    {
      "cell_type": "code",
      "execution_count": null,
      "id": "de1252c9",
      "metadata": {
        "id": "de1252c9"
      },
      "outputs": [],
      "source": []
    }
  ],
  "metadata": {
    "kernelspec": {
      "display_name": "Python 3 (ipykernel)",
      "language": "python",
      "name": "python3"
    },
    "language_info": {
      "codemirror_mode": {
        "name": "ipython",
        "version": 3
      },
      "file_extension": ".py",
      "mimetype": "text/x-python",
      "name": "python",
      "nbconvert_exporter": "python",
      "pygments_lexer": "ipython3",
      "version": "3.11.7"
    },
    "colab": {
      "provenance": []
    }
  },
  "nbformat": 4,
  "nbformat_minor": 5
}